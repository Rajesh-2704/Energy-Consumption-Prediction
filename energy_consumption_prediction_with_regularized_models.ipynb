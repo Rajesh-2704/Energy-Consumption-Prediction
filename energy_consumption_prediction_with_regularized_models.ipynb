{
  "nbformat": 4,
  "nbformat_minor": 0,
  "metadata": {
    "colab": {
      "provenance": []
    },
    "kernelspec": {
      "name": "python3",
      "display_name": "Python 3"
    },
    "language_info": {
      "name": "python"
    }
  },
  "cells": [
    {
      "cell_type": "code",
      "source": [
        "import pandas as pd\n",
        "import numpy as np\n",
        "from sklearn.model_selection import train_test_split, cross_val_score, GridSearchCV\n",
        "from sklearn.linear_model import Ridge, Lasso, ElasticNet\n",
        "from sklearn.metrics import mean_squared_error, r2_score\n",
        "from sklearn.preprocessing import StandardScaler\n",
        "import matplotlib.pyplot as plt\n"
      ],
      "metadata": {
        "id": "mRSRrlyoFrr5"
      },
      "execution_count": 44,
      "outputs": []
    },
    {
      "cell_type": "code",
      "execution_count": 1,
      "metadata": {
        "colab": {
          "base_uri": "https://localhost:8080/",
          "height": 90
        },
        "id": "5w96Lsl4wOyQ",
        "outputId": "5a53c683-d917-4b13-fc73-655227b01fe7"
      },
      "outputs": [
        {
          "output_type": "display_data",
          "data": {
            "text/plain": [
              "<IPython.core.display.HTML object>"
            ],
            "text/html": [
              "\n",
              "     <input type=\"file\" id=\"files-30a6328f-13bb-4b94-a2e0-7cab09b1e215\" name=\"files[]\" multiple disabled\n",
              "        style=\"border:none\" />\n",
              "     <output id=\"result-30a6328f-13bb-4b94-a2e0-7cab09b1e215\">\n",
              "      Upload widget is only available when the cell has been executed in the\n",
              "      current browser session. Please rerun this cell to enable.\n",
              "      </output>\n",
              "      <script>// Copyright 2017 Google LLC\n",
              "//\n",
              "// Licensed under the Apache License, Version 2.0 (the \"License\");\n",
              "// you may not use this file except in compliance with the License.\n",
              "// You may obtain a copy of the License at\n",
              "//\n",
              "//      http://www.apache.org/licenses/LICENSE-2.0\n",
              "//\n",
              "// Unless required by applicable law or agreed to in writing, software\n",
              "// distributed under the License is distributed on an \"AS IS\" BASIS,\n",
              "// WITHOUT WARRANTIES OR CONDITIONS OF ANY KIND, either express or implied.\n",
              "// See the License for the specific language governing permissions and\n",
              "// limitations under the License.\n",
              "\n",
              "/**\n",
              " * @fileoverview Helpers for google.colab Python module.\n",
              " */\n",
              "(function(scope) {\n",
              "function span(text, styleAttributes = {}) {\n",
              "  const element = document.createElement('span');\n",
              "  element.textContent = text;\n",
              "  for (const key of Object.keys(styleAttributes)) {\n",
              "    element.style[key] = styleAttributes[key];\n",
              "  }\n",
              "  return element;\n",
              "}\n",
              "\n",
              "// Max number of bytes which will be uploaded at a time.\n",
              "const MAX_PAYLOAD_SIZE = 100 * 1024;\n",
              "\n",
              "function _uploadFiles(inputId, outputId) {\n",
              "  const steps = uploadFilesStep(inputId, outputId);\n",
              "  const outputElement = document.getElementById(outputId);\n",
              "  // Cache steps on the outputElement to make it available for the next call\n",
              "  // to uploadFilesContinue from Python.\n",
              "  outputElement.steps = steps;\n",
              "\n",
              "  return _uploadFilesContinue(outputId);\n",
              "}\n",
              "\n",
              "// This is roughly an async generator (not supported in the browser yet),\n",
              "// where there are multiple asynchronous steps and the Python side is going\n",
              "// to poll for completion of each step.\n",
              "// This uses a Promise to block the python side on completion of each step,\n",
              "// then passes the result of the previous step as the input to the next step.\n",
              "function _uploadFilesContinue(outputId) {\n",
              "  const outputElement = document.getElementById(outputId);\n",
              "  const steps = outputElement.steps;\n",
              "\n",
              "  const next = steps.next(outputElement.lastPromiseValue);\n",
              "  return Promise.resolve(next.value.promise).then((value) => {\n",
              "    // Cache the last promise value to make it available to the next\n",
              "    // step of the generator.\n",
              "    outputElement.lastPromiseValue = value;\n",
              "    return next.value.response;\n",
              "  });\n",
              "}\n",
              "\n",
              "/**\n",
              " * Generator function which is called between each async step of the upload\n",
              " * process.\n",
              " * @param {string} inputId Element ID of the input file picker element.\n",
              " * @param {string} outputId Element ID of the output display.\n",
              " * @return {!Iterable<!Object>} Iterable of next steps.\n",
              " */\n",
              "function* uploadFilesStep(inputId, outputId) {\n",
              "  const inputElement = document.getElementById(inputId);\n",
              "  inputElement.disabled = false;\n",
              "\n",
              "  const outputElement = document.getElementById(outputId);\n",
              "  outputElement.innerHTML = '';\n",
              "\n",
              "  const pickedPromise = new Promise((resolve) => {\n",
              "    inputElement.addEventListener('change', (e) => {\n",
              "      resolve(e.target.files);\n",
              "    });\n",
              "  });\n",
              "\n",
              "  const cancel = document.createElement('button');\n",
              "  inputElement.parentElement.appendChild(cancel);\n",
              "  cancel.textContent = 'Cancel upload';\n",
              "  const cancelPromise = new Promise((resolve) => {\n",
              "    cancel.onclick = () => {\n",
              "      resolve(null);\n",
              "    };\n",
              "  });\n",
              "\n",
              "  // Wait for the user to pick the files.\n",
              "  const files = yield {\n",
              "    promise: Promise.race([pickedPromise, cancelPromise]),\n",
              "    response: {\n",
              "      action: 'starting',\n",
              "    }\n",
              "  };\n",
              "\n",
              "  cancel.remove();\n",
              "\n",
              "  // Disable the input element since further picks are not allowed.\n",
              "  inputElement.disabled = true;\n",
              "\n",
              "  if (!files) {\n",
              "    return {\n",
              "      response: {\n",
              "        action: 'complete',\n",
              "      }\n",
              "    };\n",
              "  }\n",
              "\n",
              "  for (const file of files) {\n",
              "    const li = document.createElement('li');\n",
              "    li.append(span(file.name, {fontWeight: 'bold'}));\n",
              "    li.append(span(\n",
              "        `(${file.type || 'n/a'}) - ${file.size} bytes, ` +\n",
              "        `last modified: ${\n",
              "            file.lastModifiedDate ? file.lastModifiedDate.toLocaleDateString() :\n",
              "                                    'n/a'} - `));\n",
              "    const percent = span('0% done');\n",
              "    li.appendChild(percent);\n",
              "\n",
              "    outputElement.appendChild(li);\n",
              "\n",
              "    const fileDataPromise = new Promise((resolve) => {\n",
              "      const reader = new FileReader();\n",
              "      reader.onload = (e) => {\n",
              "        resolve(e.target.result);\n",
              "      };\n",
              "      reader.readAsArrayBuffer(file);\n",
              "    });\n",
              "    // Wait for the data to be ready.\n",
              "    let fileData = yield {\n",
              "      promise: fileDataPromise,\n",
              "      response: {\n",
              "        action: 'continue',\n",
              "      }\n",
              "    };\n",
              "\n",
              "    // Use a chunked sending to avoid message size limits. See b/62115660.\n",
              "    let position = 0;\n",
              "    do {\n",
              "      const length = Math.min(fileData.byteLength - position, MAX_PAYLOAD_SIZE);\n",
              "      const chunk = new Uint8Array(fileData, position, length);\n",
              "      position += length;\n",
              "\n",
              "      const base64 = btoa(String.fromCharCode.apply(null, chunk));\n",
              "      yield {\n",
              "        response: {\n",
              "          action: 'append',\n",
              "          file: file.name,\n",
              "          data: base64,\n",
              "        },\n",
              "      };\n",
              "\n",
              "      let percentDone = fileData.byteLength === 0 ?\n",
              "          100 :\n",
              "          Math.round((position / fileData.byteLength) * 100);\n",
              "      percent.textContent = `${percentDone}% done`;\n",
              "\n",
              "    } while (position < fileData.byteLength);\n",
              "  }\n",
              "\n",
              "  // All done.\n",
              "  yield {\n",
              "    response: {\n",
              "      action: 'complete',\n",
              "    }\n",
              "  };\n",
              "}\n",
              "\n",
              "scope.google = scope.google || {};\n",
              "scope.google.colab = scope.google.colab || {};\n",
              "scope.google.colab._files = {\n",
              "  _uploadFiles,\n",
              "  _uploadFilesContinue,\n",
              "};\n",
              "})(self);\n",
              "</script> "
            ]
          },
          "metadata": {}
        },
        {
          "output_type": "stream",
          "name": "stdout",
          "text": [
            "Saving household_power_consumption.txt to household_power_consumption.txt\n",
            "Uploaded Files: dict_keys(['household_power_consumption.txt'])\n"
          ]
        }
      ],
      "source": [
        "from google.colab import files\n",
        "\n",
        "# Upload the file\n",
        "uploaded = files.upload()\n",
        "\n",
        "# After uploading, confirm the file name\n",
        "print(\"Uploaded Files:\", uploaded.keys())\n"
      ]
    },
    {
      "cell_type": "code",
      "source": [
        "import pandas as pd\n",
        "\n",
        "# Load the dataset\n",
        "file_name = 'household_power_consumption.txt'  # Update with the correct file name\n",
        "data = pd.read_csv(file_name, sep=';', low_memory=False)\n",
        "\n",
        "# Display first 5 rows\n",
        "data.head()\n"
      ],
      "metadata": {
        "colab": {
          "base_uri": "https://localhost:8080/",
          "height": 206
        },
        "id": "XJ1Pu-cywe5-",
        "outputId": "d5a035b3-cb46-46d0-b5e8-85cc1d9476c8"
      },
      "execution_count": 2,
      "outputs": [
        {
          "output_type": "execute_result",
          "data": {
            "text/plain": [
              "         Date      Time Global_active_power Global_reactive_power  Voltage  \\\n",
              "0  16/12/2006  17:24:00               4.216                 0.418  234.840   \n",
              "1  16/12/2006  17:25:00               5.360                 0.436  233.630   \n",
              "2  16/12/2006  17:26:00               5.374                 0.498  233.290   \n",
              "3  16/12/2006  17:27:00               5.388                 0.502  233.740   \n",
              "4  16/12/2006  17:28:00               3.666                 0.528  235.680   \n",
              "\n",
              "  Global_intensity Sub_metering_1 Sub_metering_2  Sub_metering_3  \n",
              "0           18.400          0.000          1.000            17.0  \n",
              "1           23.000          0.000          1.000            16.0  \n",
              "2           23.000          0.000          2.000            17.0  \n",
              "3           23.000          0.000          1.000            17.0  \n",
              "4           15.800          0.000          1.000            17.0  "
            ],
            "text/html": [
              "\n",
              "  <div id=\"df-a519faaf-b9a6-478b-a414-9f87a34ebd54\" class=\"colab-df-container\">\n",
              "    <div>\n",
              "<style scoped>\n",
              "    .dataframe tbody tr th:only-of-type {\n",
              "        vertical-align: middle;\n",
              "    }\n",
              "\n",
              "    .dataframe tbody tr th {\n",
              "        vertical-align: top;\n",
              "    }\n",
              "\n",
              "    .dataframe thead th {\n",
              "        text-align: right;\n",
              "    }\n",
              "</style>\n",
              "<table border=\"1\" class=\"dataframe\">\n",
              "  <thead>\n",
              "    <tr style=\"text-align: right;\">\n",
              "      <th></th>\n",
              "      <th>Date</th>\n",
              "      <th>Time</th>\n",
              "      <th>Global_active_power</th>\n",
              "      <th>Global_reactive_power</th>\n",
              "      <th>Voltage</th>\n",
              "      <th>Global_intensity</th>\n",
              "      <th>Sub_metering_1</th>\n",
              "      <th>Sub_metering_2</th>\n",
              "      <th>Sub_metering_3</th>\n",
              "    </tr>\n",
              "  </thead>\n",
              "  <tbody>\n",
              "    <tr>\n",
              "      <th>0</th>\n",
              "      <td>16/12/2006</td>\n",
              "      <td>17:24:00</td>\n",
              "      <td>4.216</td>\n",
              "      <td>0.418</td>\n",
              "      <td>234.840</td>\n",
              "      <td>18.400</td>\n",
              "      <td>0.000</td>\n",
              "      <td>1.000</td>\n",
              "      <td>17.0</td>\n",
              "    </tr>\n",
              "    <tr>\n",
              "      <th>1</th>\n",
              "      <td>16/12/2006</td>\n",
              "      <td>17:25:00</td>\n",
              "      <td>5.360</td>\n",
              "      <td>0.436</td>\n",
              "      <td>233.630</td>\n",
              "      <td>23.000</td>\n",
              "      <td>0.000</td>\n",
              "      <td>1.000</td>\n",
              "      <td>16.0</td>\n",
              "    </tr>\n",
              "    <tr>\n",
              "      <th>2</th>\n",
              "      <td>16/12/2006</td>\n",
              "      <td>17:26:00</td>\n",
              "      <td>5.374</td>\n",
              "      <td>0.498</td>\n",
              "      <td>233.290</td>\n",
              "      <td>23.000</td>\n",
              "      <td>0.000</td>\n",
              "      <td>2.000</td>\n",
              "      <td>17.0</td>\n",
              "    </tr>\n",
              "    <tr>\n",
              "      <th>3</th>\n",
              "      <td>16/12/2006</td>\n",
              "      <td>17:27:00</td>\n",
              "      <td>5.388</td>\n",
              "      <td>0.502</td>\n",
              "      <td>233.740</td>\n",
              "      <td>23.000</td>\n",
              "      <td>0.000</td>\n",
              "      <td>1.000</td>\n",
              "      <td>17.0</td>\n",
              "    </tr>\n",
              "    <tr>\n",
              "      <th>4</th>\n",
              "      <td>16/12/2006</td>\n",
              "      <td>17:28:00</td>\n",
              "      <td>3.666</td>\n",
              "      <td>0.528</td>\n",
              "      <td>235.680</td>\n",
              "      <td>15.800</td>\n",
              "      <td>0.000</td>\n",
              "      <td>1.000</td>\n",
              "      <td>17.0</td>\n",
              "    </tr>\n",
              "  </tbody>\n",
              "</table>\n",
              "</div>\n",
              "    <div class=\"colab-df-buttons\">\n",
              "\n",
              "  <div class=\"colab-df-container\">\n",
              "    <button class=\"colab-df-convert\" onclick=\"convertToInteractive('df-a519faaf-b9a6-478b-a414-9f87a34ebd54')\"\n",
              "            title=\"Convert this dataframe to an interactive table.\"\n",
              "            style=\"display:none;\">\n",
              "\n",
              "  <svg xmlns=\"http://www.w3.org/2000/svg\" height=\"24px\" viewBox=\"0 -960 960 960\">\n",
              "    <path d=\"M120-120v-720h720v720H120Zm60-500h600v-160H180v160Zm220 220h160v-160H400v160Zm0 220h160v-160H400v160ZM180-400h160v-160H180v160Zm440 0h160v-160H620v160ZM180-180h160v-160H180v160Zm440 0h160v-160H620v160Z\"/>\n",
              "  </svg>\n",
              "    </button>\n",
              "\n",
              "  <style>\n",
              "    .colab-df-container {\n",
              "      display:flex;\n",
              "      gap: 12px;\n",
              "    }\n",
              "\n",
              "    .colab-df-convert {\n",
              "      background-color: #E8F0FE;\n",
              "      border: none;\n",
              "      border-radius: 50%;\n",
              "      cursor: pointer;\n",
              "      display: none;\n",
              "      fill: #1967D2;\n",
              "      height: 32px;\n",
              "      padding: 0 0 0 0;\n",
              "      width: 32px;\n",
              "    }\n",
              "\n",
              "    .colab-df-convert:hover {\n",
              "      background-color: #E2EBFA;\n",
              "      box-shadow: 0px 1px 2px rgba(60, 64, 67, 0.3), 0px 1px 3px 1px rgba(60, 64, 67, 0.15);\n",
              "      fill: #174EA6;\n",
              "    }\n",
              "\n",
              "    .colab-df-buttons div {\n",
              "      margin-bottom: 4px;\n",
              "    }\n",
              "\n",
              "    [theme=dark] .colab-df-convert {\n",
              "      background-color: #3B4455;\n",
              "      fill: #D2E3FC;\n",
              "    }\n",
              "\n",
              "    [theme=dark] .colab-df-convert:hover {\n",
              "      background-color: #434B5C;\n",
              "      box-shadow: 0px 1px 3px 1px rgba(0, 0, 0, 0.15);\n",
              "      filter: drop-shadow(0px 1px 2px rgba(0, 0, 0, 0.3));\n",
              "      fill: #FFFFFF;\n",
              "    }\n",
              "  </style>\n",
              "\n",
              "    <script>\n",
              "      const buttonEl =\n",
              "        document.querySelector('#df-a519faaf-b9a6-478b-a414-9f87a34ebd54 button.colab-df-convert');\n",
              "      buttonEl.style.display =\n",
              "        google.colab.kernel.accessAllowed ? 'block' : 'none';\n",
              "\n",
              "      async function convertToInteractive(key) {\n",
              "        const element = document.querySelector('#df-a519faaf-b9a6-478b-a414-9f87a34ebd54');\n",
              "        const dataTable =\n",
              "          await google.colab.kernel.invokeFunction('convertToInteractive',\n",
              "                                                    [key], {});\n",
              "        if (!dataTable) return;\n",
              "\n",
              "        const docLinkHtml = 'Like what you see? Visit the ' +\n",
              "          '<a target=\"_blank\" href=https://colab.research.google.com/notebooks/data_table.ipynb>data table notebook</a>'\n",
              "          + ' to learn more about interactive tables.';\n",
              "        element.innerHTML = '';\n",
              "        dataTable['output_type'] = 'display_data';\n",
              "        await google.colab.output.renderOutput(dataTable, element);\n",
              "        const docLink = document.createElement('div');\n",
              "        docLink.innerHTML = docLinkHtml;\n",
              "        element.appendChild(docLink);\n",
              "      }\n",
              "    </script>\n",
              "  </div>\n",
              "\n",
              "\n",
              "<div id=\"df-c863b066-8bbc-47a0-875f-ca2394a3bf52\">\n",
              "  <button class=\"colab-df-quickchart\" onclick=\"quickchart('df-c863b066-8bbc-47a0-875f-ca2394a3bf52')\"\n",
              "            title=\"Suggest charts\"\n",
              "            style=\"display:none;\">\n",
              "\n",
              "<svg xmlns=\"http://www.w3.org/2000/svg\" height=\"24px\"viewBox=\"0 0 24 24\"\n",
              "     width=\"24px\">\n",
              "    <g>\n",
              "        <path d=\"M19 3H5c-1.1 0-2 .9-2 2v14c0 1.1.9 2 2 2h14c1.1 0 2-.9 2-2V5c0-1.1-.9-2-2-2zM9 17H7v-7h2v7zm4 0h-2V7h2v10zm4 0h-2v-4h2v4z\"/>\n",
              "    </g>\n",
              "</svg>\n",
              "  </button>\n",
              "\n",
              "<style>\n",
              "  .colab-df-quickchart {\n",
              "      --bg-color: #E8F0FE;\n",
              "      --fill-color: #1967D2;\n",
              "      --hover-bg-color: #E2EBFA;\n",
              "      --hover-fill-color: #174EA6;\n",
              "      --disabled-fill-color: #AAA;\n",
              "      --disabled-bg-color: #DDD;\n",
              "  }\n",
              "\n",
              "  [theme=dark] .colab-df-quickchart {\n",
              "      --bg-color: #3B4455;\n",
              "      --fill-color: #D2E3FC;\n",
              "      --hover-bg-color: #434B5C;\n",
              "      --hover-fill-color: #FFFFFF;\n",
              "      --disabled-bg-color: #3B4455;\n",
              "      --disabled-fill-color: #666;\n",
              "  }\n",
              "\n",
              "  .colab-df-quickchart {\n",
              "    background-color: var(--bg-color);\n",
              "    border: none;\n",
              "    border-radius: 50%;\n",
              "    cursor: pointer;\n",
              "    display: none;\n",
              "    fill: var(--fill-color);\n",
              "    height: 32px;\n",
              "    padding: 0;\n",
              "    width: 32px;\n",
              "  }\n",
              "\n",
              "  .colab-df-quickchart:hover {\n",
              "    background-color: var(--hover-bg-color);\n",
              "    box-shadow: 0 1px 2px rgba(60, 64, 67, 0.3), 0 1px 3px 1px rgba(60, 64, 67, 0.15);\n",
              "    fill: var(--button-hover-fill-color);\n",
              "  }\n",
              "\n",
              "  .colab-df-quickchart-complete:disabled,\n",
              "  .colab-df-quickchart-complete:disabled:hover {\n",
              "    background-color: var(--disabled-bg-color);\n",
              "    fill: var(--disabled-fill-color);\n",
              "    box-shadow: none;\n",
              "  }\n",
              "\n",
              "  .colab-df-spinner {\n",
              "    border: 2px solid var(--fill-color);\n",
              "    border-color: transparent;\n",
              "    border-bottom-color: var(--fill-color);\n",
              "    animation:\n",
              "      spin 1s steps(1) infinite;\n",
              "  }\n",
              "\n",
              "  @keyframes spin {\n",
              "    0% {\n",
              "      border-color: transparent;\n",
              "      border-bottom-color: var(--fill-color);\n",
              "      border-left-color: var(--fill-color);\n",
              "    }\n",
              "    20% {\n",
              "      border-color: transparent;\n",
              "      border-left-color: var(--fill-color);\n",
              "      border-top-color: var(--fill-color);\n",
              "    }\n",
              "    30% {\n",
              "      border-color: transparent;\n",
              "      border-left-color: var(--fill-color);\n",
              "      border-top-color: var(--fill-color);\n",
              "      border-right-color: var(--fill-color);\n",
              "    }\n",
              "    40% {\n",
              "      border-color: transparent;\n",
              "      border-right-color: var(--fill-color);\n",
              "      border-top-color: var(--fill-color);\n",
              "    }\n",
              "    60% {\n",
              "      border-color: transparent;\n",
              "      border-right-color: var(--fill-color);\n",
              "    }\n",
              "    80% {\n",
              "      border-color: transparent;\n",
              "      border-right-color: var(--fill-color);\n",
              "      border-bottom-color: var(--fill-color);\n",
              "    }\n",
              "    90% {\n",
              "      border-color: transparent;\n",
              "      border-bottom-color: var(--fill-color);\n",
              "    }\n",
              "  }\n",
              "</style>\n",
              "\n",
              "  <script>\n",
              "    async function quickchart(key) {\n",
              "      const quickchartButtonEl =\n",
              "        document.querySelector('#' + key + ' button');\n",
              "      quickchartButtonEl.disabled = true;  // To prevent multiple clicks.\n",
              "      quickchartButtonEl.classList.add('colab-df-spinner');\n",
              "      try {\n",
              "        const charts = await google.colab.kernel.invokeFunction(\n",
              "            'suggestCharts', [key], {});\n",
              "      } catch (error) {\n",
              "        console.error('Error during call to suggestCharts:', error);\n",
              "      }\n",
              "      quickchartButtonEl.classList.remove('colab-df-spinner');\n",
              "      quickchartButtonEl.classList.add('colab-df-quickchart-complete');\n",
              "    }\n",
              "    (() => {\n",
              "      let quickchartButtonEl =\n",
              "        document.querySelector('#df-c863b066-8bbc-47a0-875f-ca2394a3bf52 button');\n",
              "      quickchartButtonEl.style.display =\n",
              "        google.colab.kernel.accessAllowed ? 'block' : 'none';\n",
              "    })();\n",
              "  </script>\n",
              "</div>\n",
              "\n",
              "    </div>\n",
              "  </div>\n"
            ],
            "application/vnd.google.colaboratory.intrinsic+json": {
              "type": "dataframe",
              "variable_name": "data"
            }
          },
          "metadata": {},
          "execution_count": 2
        }
      ]
    },
    {
      "cell_type": "code",
      "source": [
        "# Combine 'Date' and 'Time' into a single 'Datetime' column\n",
        "data['Datetime'] = pd.to_datetime(data['Date'] + ' ' + data['Time'], format='%d/%m/%Y %H:%M:%S')\n",
        "\n",
        "# Drop the old 'Date' and 'Time' columns as we don't need them anymore\n",
        "data = data.drop(columns=['Date', 'Time'])\n",
        "\n",
        "# Set 'Datetime' as the index\n",
        "data.set_index('Datetime', inplace=True)\n",
        "\n",
        "# Display the first few rows\n",
        "data.head()\n"
      ],
      "metadata": {
        "colab": {
          "base_uri": "https://localhost:8080/",
          "height": 237
        },
        "id": "mJaII6Kc8VZ3",
        "outputId": "2ed54a65-ca06-4012-b0e9-2ed3e7bff7a6"
      },
      "execution_count": 3,
      "outputs": [
        {
          "output_type": "execute_result",
          "data": {
            "text/plain": [
              "                    Global_active_power Global_reactive_power  Voltage  \\\n",
              "Datetime                                                                 \n",
              "2006-12-16 17:24:00               4.216                 0.418  234.840   \n",
              "2006-12-16 17:25:00               5.360                 0.436  233.630   \n",
              "2006-12-16 17:26:00               5.374                 0.498  233.290   \n",
              "2006-12-16 17:27:00               5.388                 0.502  233.740   \n",
              "2006-12-16 17:28:00               3.666                 0.528  235.680   \n",
              "\n",
              "                    Global_intensity Sub_metering_1 Sub_metering_2  \\\n",
              "Datetime                                                             \n",
              "2006-12-16 17:24:00           18.400          0.000          1.000   \n",
              "2006-12-16 17:25:00           23.000          0.000          1.000   \n",
              "2006-12-16 17:26:00           23.000          0.000          2.000   \n",
              "2006-12-16 17:27:00           23.000          0.000          1.000   \n",
              "2006-12-16 17:28:00           15.800          0.000          1.000   \n",
              "\n",
              "                     Sub_metering_3  \n",
              "Datetime                             \n",
              "2006-12-16 17:24:00            17.0  \n",
              "2006-12-16 17:25:00            16.0  \n",
              "2006-12-16 17:26:00            17.0  \n",
              "2006-12-16 17:27:00            17.0  \n",
              "2006-12-16 17:28:00            17.0  "
            ],
            "text/html": [
              "\n",
              "  <div id=\"df-d0f545d3-046e-45f3-a8b6-ec0c4f2d0b89\" class=\"colab-df-container\">\n",
              "    <div>\n",
              "<style scoped>\n",
              "    .dataframe tbody tr th:only-of-type {\n",
              "        vertical-align: middle;\n",
              "    }\n",
              "\n",
              "    .dataframe tbody tr th {\n",
              "        vertical-align: top;\n",
              "    }\n",
              "\n",
              "    .dataframe thead th {\n",
              "        text-align: right;\n",
              "    }\n",
              "</style>\n",
              "<table border=\"1\" class=\"dataframe\">\n",
              "  <thead>\n",
              "    <tr style=\"text-align: right;\">\n",
              "      <th></th>\n",
              "      <th>Global_active_power</th>\n",
              "      <th>Global_reactive_power</th>\n",
              "      <th>Voltage</th>\n",
              "      <th>Global_intensity</th>\n",
              "      <th>Sub_metering_1</th>\n",
              "      <th>Sub_metering_2</th>\n",
              "      <th>Sub_metering_3</th>\n",
              "    </tr>\n",
              "    <tr>\n",
              "      <th>Datetime</th>\n",
              "      <th></th>\n",
              "      <th></th>\n",
              "      <th></th>\n",
              "      <th></th>\n",
              "      <th></th>\n",
              "      <th></th>\n",
              "      <th></th>\n",
              "    </tr>\n",
              "  </thead>\n",
              "  <tbody>\n",
              "    <tr>\n",
              "      <th>2006-12-16 17:24:00</th>\n",
              "      <td>4.216</td>\n",
              "      <td>0.418</td>\n",
              "      <td>234.840</td>\n",
              "      <td>18.400</td>\n",
              "      <td>0.000</td>\n",
              "      <td>1.000</td>\n",
              "      <td>17.0</td>\n",
              "    </tr>\n",
              "    <tr>\n",
              "      <th>2006-12-16 17:25:00</th>\n",
              "      <td>5.360</td>\n",
              "      <td>0.436</td>\n",
              "      <td>233.630</td>\n",
              "      <td>23.000</td>\n",
              "      <td>0.000</td>\n",
              "      <td>1.000</td>\n",
              "      <td>16.0</td>\n",
              "    </tr>\n",
              "    <tr>\n",
              "      <th>2006-12-16 17:26:00</th>\n",
              "      <td>5.374</td>\n",
              "      <td>0.498</td>\n",
              "      <td>233.290</td>\n",
              "      <td>23.000</td>\n",
              "      <td>0.000</td>\n",
              "      <td>2.000</td>\n",
              "      <td>17.0</td>\n",
              "    </tr>\n",
              "    <tr>\n",
              "      <th>2006-12-16 17:27:00</th>\n",
              "      <td>5.388</td>\n",
              "      <td>0.502</td>\n",
              "      <td>233.740</td>\n",
              "      <td>23.000</td>\n",
              "      <td>0.000</td>\n",
              "      <td>1.000</td>\n",
              "      <td>17.0</td>\n",
              "    </tr>\n",
              "    <tr>\n",
              "      <th>2006-12-16 17:28:00</th>\n",
              "      <td>3.666</td>\n",
              "      <td>0.528</td>\n",
              "      <td>235.680</td>\n",
              "      <td>15.800</td>\n",
              "      <td>0.000</td>\n",
              "      <td>1.000</td>\n",
              "      <td>17.0</td>\n",
              "    </tr>\n",
              "  </tbody>\n",
              "</table>\n",
              "</div>\n",
              "    <div class=\"colab-df-buttons\">\n",
              "\n",
              "  <div class=\"colab-df-container\">\n",
              "    <button class=\"colab-df-convert\" onclick=\"convertToInteractive('df-d0f545d3-046e-45f3-a8b6-ec0c4f2d0b89')\"\n",
              "            title=\"Convert this dataframe to an interactive table.\"\n",
              "            style=\"display:none;\">\n",
              "\n",
              "  <svg xmlns=\"http://www.w3.org/2000/svg\" height=\"24px\" viewBox=\"0 -960 960 960\">\n",
              "    <path d=\"M120-120v-720h720v720H120Zm60-500h600v-160H180v160Zm220 220h160v-160H400v160Zm0 220h160v-160H400v160ZM180-400h160v-160H180v160Zm440 0h160v-160H620v160ZM180-180h160v-160H180v160Zm440 0h160v-160H620v160Z\"/>\n",
              "  </svg>\n",
              "    </button>\n",
              "\n",
              "  <style>\n",
              "    .colab-df-container {\n",
              "      display:flex;\n",
              "      gap: 12px;\n",
              "    }\n",
              "\n",
              "    .colab-df-convert {\n",
              "      background-color: #E8F0FE;\n",
              "      border: none;\n",
              "      border-radius: 50%;\n",
              "      cursor: pointer;\n",
              "      display: none;\n",
              "      fill: #1967D2;\n",
              "      height: 32px;\n",
              "      padding: 0 0 0 0;\n",
              "      width: 32px;\n",
              "    }\n",
              "\n",
              "    .colab-df-convert:hover {\n",
              "      background-color: #E2EBFA;\n",
              "      box-shadow: 0px 1px 2px rgba(60, 64, 67, 0.3), 0px 1px 3px 1px rgba(60, 64, 67, 0.15);\n",
              "      fill: #174EA6;\n",
              "    }\n",
              "\n",
              "    .colab-df-buttons div {\n",
              "      margin-bottom: 4px;\n",
              "    }\n",
              "\n",
              "    [theme=dark] .colab-df-convert {\n",
              "      background-color: #3B4455;\n",
              "      fill: #D2E3FC;\n",
              "    }\n",
              "\n",
              "    [theme=dark] .colab-df-convert:hover {\n",
              "      background-color: #434B5C;\n",
              "      box-shadow: 0px 1px 3px 1px rgba(0, 0, 0, 0.15);\n",
              "      filter: drop-shadow(0px 1px 2px rgba(0, 0, 0, 0.3));\n",
              "      fill: #FFFFFF;\n",
              "    }\n",
              "  </style>\n",
              "\n",
              "    <script>\n",
              "      const buttonEl =\n",
              "        document.querySelector('#df-d0f545d3-046e-45f3-a8b6-ec0c4f2d0b89 button.colab-df-convert');\n",
              "      buttonEl.style.display =\n",
              "        google.colab.kernel.accessAllowed ? 'block' : 'none';\n",
              "\n",
              "      async function convertToInteractive(key) {\n",
              "        const element = document.querySelector('#df-d0f545d3-046e-45f3-a8b6-ec0c4f2d0b89');\n",
              "        const dataTable =\n",
              "          await google.colab.kernel.invokeFunction('convertToInteractive',\n",
              "                                                    [key], {});\n",
              "        if (!dataTable) return;\n",
              "\n",
              "        const docLinkHtml = 'Like what you see? Visit the ' +\n",
              "          '<a target=\"_blank\" href=https://colab.research.google.com/notebooks/data_table.ipynb>data table notebook</a>'\n",
              "          + ' to learn more about interactive tables.';\n",
              "        element.innerHTML = '';\n",
              "        dataTable['output_type'] = 'display_data';\n",
              "        await google.colab.output.renderOutput(dataTable, element);\n",
              "        const docLink = document.createElement('div');\n",
              "        docLink.innerHTML = docLinkHtml;\n",
              "        element.appendChild(docLink);\n",
              "      }\n",
              "    </script>\n",
              "  </div>\n",
              "\n",
              "\n",
              "<div id=\"df-95e68880-a301-4f60-a446-86059e4b1b30\">\n",
              "  <button class=\"colab-df-quickchart\" onclick=\"quickchart('df-95e68880-a301-4f60-a446-86059e4b1b30')\"\n",
              "            title=\"Suggest charts\"\n",
              "            style=\"display:none;\">\n",
              "\n",
              "<svg xmlns=\"http://www.w3.org/2000/svg\" height=\"24px\"viewBox=\"0 0 24 24\"\n",
              "     width=\"24px\">\n",
              "    <g>\n",
              "        <path d=\"M19 3H5c-1.1 0-2 .9-2 2v14c0 1.1.9 2 2 2h14c1.1 0 2-.9 2-2V5c0-1.1-.9-2-2-2zM9 17H7v-7h2v7zm4 0h-2V7h2v10zm4 0h-2v-4h2v4z\"/>\n",
              "    </g>\n",
              "</svg>\n",
              "  </button>\n",
              "\n",
              "<style>\n",
              "  .colab-df-quickchart {\n",
              "      --bg-color: #E8F0FE;\n",
              "      --fill-color: #1967D2;\n",
              "      --hover-bg-color: #E2EBFA;\n",
              "      --hover-fill-color: #174EA6;\n",
              "      --disabled-fill-color: #AAA;\n",
              "      --disabled-bg-color: #DDD;\n",
              "  }\n",
              "\n",
              "  [theme=dark] .colab-df-quickchart {\n",
              "      --bg-color: #3B4455;\n",
              "      --fill-color: #D2E3FC;\n",
              "      --hover-bg-color: #434B5C;\n",
              "      --hover-fill-color: #FFFFFF;\n",
              "      --disabled-bg-color: #3B4455;\n",
              "      --disabled-fill-color: #666;\n",
              "  }\n",
              "\n",
              "  .colab-df-quickchart {\n",
              "    background-color: var(--bg-color);\n",
              "    border: none;\n",
              "    border-radius: 50%;\n",
              "    cursor: pointer;\n",
              "    display: none;\n",
              "    fill: var(--fill-color);\n",
              "    height: 32px;\n",
              "    padding: 0;\n",
              "    width: 32px;\n",
              "  }\n",
              "\n",
              "  .colab-df-quickchart:hover {\n",
              "    background-color: var(--hover-bg-color);\n",
              "    box-shadow: 0 1px 2px rgba(60, 64, 67, 0.3), 0 1px 3px 1px rgba(60, 64, 67, 0.15);\n",
              "    fill: var(--button-hover-fill-color);\n",
              "  }\n",
              "\n",
              "  .colab-df-quickchart-complete:disabled,\n",
              "  .colab-df-quickchart-complete:disabled:hover {\n",
              "    background-color: var(--disabled-bg-color);\n",
              "    fill: var(--disabled-fill-color);\n",
              "    box-shadow: none;\n",
              "  }\n",
              "\n",
              "  .colab-df-spinner {\n",
              "    border: 2px solid var(--fill-color);\n",
              "    border-color: transparent;\n",
              "    border-bottom-color: var(--fill-color);\n",
              "    animation:\n",
              "      spin 1s steps(1) infinite;\n",
              "  }\n",
              "\n",
              "  @keyframes spin {\n",
              "    0% {\n",
              "      border-color: transparent;\n",
              "      border-bottom-color: var(--fill-color);\n",
              "      border-left-color: var(--fill-color);\n",
              "    }\n",
              "    20% {\n",
              "      border-color: transparent;\n",
              "      border-left-color: var(--fill-color);\n",
              "      border-top-color: var(--fill-color);\n",
              "    }\n",
              "    30% {\n",
              "      border-color: transparent;\n",
              "      border-left-color: var(--fill-color);\n",
              "      border-top-color: var(--fill-color);\n",
              "      border-right-color: var(--fill-color);\n",
              "    }\n",
              "    40% {\n",
              "      border-color: transparent;\n",
              "      border-right-color: var(--fill-color);\n",
              "      border-top-color: var(--fill-color);\n",
              "    }\n",
              "    60% {\n",
              "      border-color: transparent;\n",
              "      border-right-color: var(--fill-color);\n",
              "    }\n",
              "    80% {\n",
              "      border-color: transparent;\n",
              "      border-right-color: var(--fill-color);\n",
              "      border-bottom-color: var(--fill-color);\n",
              "    }\n",
              "    90% {\n",
              "      border-color: transparent;\n",
              "      border-bottom-color: var(--fill-color);\n",
              "    }\n",
              "  }\n",
              "</style>\n",
              "\n",
              "  <script>\n",
              "    async function quickchart(key) {\n",
              "      const quickchartButtonEl =\n",
              "        document.querySelector('#' + key + ' button');\n",
              "      quickchartButtonEl.disabled = true;  // To prevent multiple clicks.\n",
              "      quickchartButtonEl.classList.add('colab-df-spinner');\n",
              "      try {\n",
              "        const charts = await google.colab.kernel.invokeFunction(\n",
              "            'suggestCharts', [key], {});\n",
              "      } catch (error) {\n",
              "        console.error('Error during call to suggestCharts:', error);\n",
              "      }\n",
              "      quickchartButtonEl.classList.remove('colab-df-spinner');\n",
              "      quickchartButtonEl.classList.add('colab-df-quickchart-complete');\n",
              "    }\n",
              "    (() => {\n",
              "      let quickchartButtonEl =\n",
              "        document.querySelector('#df-95e68880-a301-4f60-a446-86059e4b1b30 button');\n",
              "      quickchartButtonEl.style.display =\n",
              "        google.colab.kernel.accessAllowed ? 'block' : 'none';\n",
              "    })();\n",
              "  </script>\n",
              "</div>\n",
              "\n",
              "    </div>\n",
              "  </div>\n"
            ],
            "application/vnd.google.colaboratory.intrinsic+json": {
              "type": "dataframe",
              "variable_name": "data"
            }
          },
          "metadata": {},
          "execution_count": 3
        }
      ]
    },
    {
      "cell_type": "code",
      "source": [
        "# Check for missing values\n",
        "missing_values = data.isnull().sum()\n",
        "print(\"Missing values in each column:\")\n",
        "print(missing_values)\n",
        "\n",
        "# Optionally, fill missing values with forward fill method\n",
        "data.fillna(method='ffill', inplace=True)\n"
      ],
      "metadata": {
        "colab": {
          "base_uri": "https://localhost:8080/",
          "height": 0
        },
        "id": "nniNBVU48Ylf",
        "outputId": "b8234bab-8e8b-4d0f-d6e9-523bd87f49c5"
      },
      "execution_count": 4,
      "outputs": [
        {
          "output_type": "stream",
          "name": "stdout",
          "text": [
            "Missing values in each column:\n",
            "Global_active_power          0\n",
            "Global_reactive_power        0\n",
            "Voltage                      0\n",
            "Global_intensity             0\n",
            "Sub_metering_1               0\n",
            "Sub_metering_2               0\n",
            "Sub_metering_3           25979\n",
            "dtype: int64\n"
          ]
        },
        {
          "output_type": "stream",
          "name": "stderr",
          "text": [
            "<ipython-input-4-95efd13410e1>:7: FutureWarning: DataFrame.fillna with 'method' is deprecated and will raise in a future version. Use obj.ffill() or obj.bfill() instead.\n",
            "  data.fillna(method='ffill', inplace=True)\n"
          ]
        }
      ]
    },
    {
      "cell_type": "code",
      "source": [
        "# Fill missing values in 'Sub_metering_3' column using forward fill method\n",
        "data['Sub_metering_3'].ffill(inplace=True)\n",
        "\n",
        "# Verify if there are still any missing values\n",
        "missing_values_after_fill = data.isnull().sum()\n",
        "print(\"Missing values after filling:\")\n",
        "print(missing_values_after_fill)\n"
      ],
      "metadata": {
        "colab": {
          "base_uri": "https://localhost:8080/",
          "height": 0
        },
        "id": "7r54Cp7v9FZj",
        "outputId": "78061ad0-9d28-4fd9-ee44-3d1085b244a0"
      },
      "execution_count": 7,
      "outputs": [
        {
          "output_type": "stream",
          "name": "stdout",
          "text": [
            "Missing values after filling:\n",
            "Global_active_power      25979\n",
            "Global_reactive_power    25979\n",
            "Voltage                  25979\n",
            "Global_intensity         25979\n",
            "Sub_metering_1           25979\n",
            "Sub_metering_2           25979\n",
            "Sub_metering_3               0\n",
            "dtype: int64\n"
          ]
        },
        {
          "output_type": "stream",
          "name": "stderr",
          "text": [
            "<ipython-input-7-8b60b92651fb>:2: FutureWarning: A value is trying to be set on a copy of a DataFrame or Series through chained assignment using an inplace method.\n",
            "The behavior will change in pandas 3.0. This inplace method will never work because the intermediate object on which we are setting values always behaves as a copy.\n",
            "\n",
            "For example, when doing 'df[col].method(value, inplace=True)', try using 'df.method({col: value}, inplace=True)' or df[col] = df[col].method(value) instead, to perform the operation inplace on the original object.\n",
            "\n",
            "\n",
            "  data['Sub_metering_3'].ffill(inplace=True)\n"
          ]
        }
      ]
    },
    {
      "cell_type": "code",
      "source": [
        "# Check missing values again to confirm columns with issues\n",
        "missing_values = data.isnull().sum()\n",
        "print(\"Missing values in each column before filling:\")\n",
        "print(missing_values)\n",
        "\n",
        "# Fill the missing values in all columns with the median (a robust method)\n",
        "data['Global_active_power'].fillna(data['Global_active_power'].median(), inplace=True)\n",
        "data['Global_reactive_power'].fillna(data['Global_reactive_power'].median(), inplace=True)\n",
        "data['Voltage'].fillna(data['Voltage'].median(), inplace=True)\n",
        "data['Global_intensity'].fillna(data['Global_intensity'].median(), inplace=True)\n",
        "data['Sub_metering_1'].fillna(data['Sub_metering_1'].median(), inplace=True)\n",
        "data['Sub_metering_2'].fillna(data['Sub_metering_2'].median(), inplace=True)\n",
        "\n",
        "# Verify if there are still missing values\n",
        "missing_values_after_fill = data.isnull().sum()\n",
        "print(\"Missing values after filling with median:\")\n",
        "print(missing_values_after_fill)\n"
      ],
      "metadata": {
        "colab": {
          "base_uri": "https://localhost:8080/",
          "height": 0
        },
        "id": "eJfZQFcy9PiB",
        "outputId": "573350f7-a43d-4c37-f10b-7837551f42d2"
      },
      "execution_count": 8,
      "outputs": [
        {
          "output_type": "stream",
          "name": "stdout",
          "text": [
            "Missing values in each column before filling:\n",
            "Global_active_power      25979\n",
            "Global_reactive_power    25979\n",
            "Voltage                  25979\n",
            "Global_intensity         25979\n",
            "Sub_metering_1           25979\n",
            "Sub_metering_2           25979\n",
            "Sub_metering_3               0\n",
            "dtype: int64\n",
            "Missing values after filling with median:\n",
            "Global_active_power      0\n",
            "Global_reactive_power    0\n",
            "Voltage                  0\n",
            "Global_intensity         0\n",
            "Sub_metering_1           0\n",
            "Sub_metering_2           0\n",
            "Sub_metering_3           0\n",
            "dtype: int64\n"
          ]
        },
        {
          "output_type": "stream",
          "name": "stderr",
          "text": [
            "<ipython-input-8-926137c0321f>:7: FutureWarning: A value is trying to be set on a copy of a DataFrame or Series through chained assignment using an inplace method.\n",
            "The behavior will change in pandas 3.0. This inplace method will never work because the intermediate object on which we are setting values always behaves as a copy.\n",
            "\n",
            "For example, when doing 'df[col].method(value, inplace=True)', try using 'df.method({col: value}, inplace=True)' or df[col] = df[col].method(value) instead, to perform the operation inplace on the original object.\n",
            "\n",
            "\n",
            "  data['Global_active_power'].fillna(data['Global_active_power'].median(), inplace=True)\n",
            "<ipython-input-8-926137c0321f>:8: FutureWarning: A value is trying to be set on a copy of a DataFrame or Series through chained assignment using an inplace method.\n",
            "The behavior will change in pandas 3.0. This inplace method will never work because the intermediate object on which we are setting values always behaves as a copy.\n",
            "\n",
            "For example, when doing 'df[col].method(value, inplace=True)', try using 'df.method({col: value}, inplace=True)' or df[col] = df[col].method(value) instead, to perform the operation inplace on the original object.\n",
            "\n",
            "\n",
            "  data['Global_reactive_power'].fillna(data['Global_reactive_power'].median(), inplace=True)\n",
            "<ipython-input-8-926137c0321f>:9: FutureWarning: A value is trying to be set on a copy of a DataFrame or Series through chained assignment using an inplace method.\n",
            "The behavior will change in pandas 3.0. This inplace method will never work because the intermediate object on which we are setting values always behaves as a copy.\n",
            "\n",
            "For example, when doing 'df[col].method(value, inplace=True)', try using 'df.method({col: value}, inplace=True)' or df[col] = df[col].method(value) instead, to perform the operation inplace on the original object.\n",
            "\n",
            "\n",
            "  data['Voltage'].fillna(data['Voltage'].median(), inplace=True)\n",
            "<ipython-input-8-926137c0321f>:10: FutureWarning: A value is trying to be set on a copy of a DataFrame or Series through chained assignment using an inplace method.\n",
            "The behavior will change in pandas 3.0. This inplace method will never work because the intermediate object on which we are setting values always behaves as a copy.\n",
            "\n",
            "For example, when doing 'df[col].method(value, inplace=True)', try using 'df.method({col: value}, inplace=True)' or df[col] = df[col].method(value) instead, to perform the operation inplace on the original object.\n",
            "\n",
            "\n",
            "  data['Global_intensity'].fillna(data['Global_intensity'].median(), inplace=True)\n",
            "<ipython-input-8-926137c0321f>:11: FutureWarning: A value is trying to be set on a copy of a DataFrame or Series through chained assignment using an inplace method.\n",
            "The behavior will change in pandas 3.0. This inplace method will never work because the intermediate object on which we are setting values always behaves as a copy.\n",
            "\n",
            "For example, when doing 'df[col].method(value, inplace=True)', try using 'df.method({col: value}, inplace=True)' or df[col] = df[col].method(value) instead, to perform the operation inplace on the original object.\n",
            "\n",
            "\n",
            "  data['Sub_metering_1'].fillna(data['Sub_metering_1'].median(), inplace=True)\n",
            "<ipython-input-8-926137c0321f>:12: FutureWarning: A value is trying to be set on a copy of a DataFrame or Series through chained assignment using an inplace method.\n",
            "The behavior will change in pandas 3.0. This inplace method will never work because the intermediate object on which we are setting values always behaves as a copy.\n",
            "\n",
            "For example, when doing 'df[col].method(value, inplace=True)', try using 'df.method({col: value}, inplace=True)' or df[col] = df[col].method(value) instead, to perform the operation inplace on the original object.\n",
            "\n",
            "\n",
            "  data['Sub_metering_2'].fillna(data['Sub_metering_2'].median(), inplace=True)\n"
          ]
        }
      ]
    },
    {
      "cell_type": "code",
      "source": [
        "# Fill the missing values in each column with the median\n",
        "data['Global_active_power'] = data['Global_active_power'].fillna(data['Global_active_power'].median())\n",
        "data['Global_reactive_power'] = data['Global_reactive_power'].fillna(data['Global_reactive_power'].median())\n",
        "data['Voltage'] = data['Voltage'].fillna(data['Voltage'].median())\n",
        "data['Global_intensity'] = data['Global_intensity'].fillna(data['Global_intensity'].median())\n",
        "data['Sub_metering_1'] = data['Sub_metering_1'].fillna(data['Sub_metering_1'].median())\n",
        "data['Sub_metering_2'] = data['Sub_metering_2'].fillna(data['Sub_metering_2'].median())\n",
        "\n",
        "# Verify if there are still missing values\n",
        "missing_values_after_fill = data.isnull().sum()\n",
        "print(\"Missing values after filling with median:\")\n",
        "print(missing_values_after_fill)\n"
      ],
      "metadata": {
        "colab": {
          "base_uri": "https://localhost:8080/",
          "height": 0
        },
        "id": "VjTRJrYk9cb3",
        "outputId": "55799e9c-f4a8-47bc-a721-e70d1cc18d1b"
      },
      "execution_count": 9,
      "outputs": [
        {
          "output_type": "stream",
          "name": "stdout",
          "text": [
            "Missing values after filling with median:\n",
            "Global_active_power      0\n",
            "Global_reactive_power    0\n",
            "Voltage                  0\n",
            "Global_intensity         0\n",
            "Sub_metering_1           0\n",
            "Sub_metering_2           0\n",
            "Sub_metering_3           0\n",
            "dtype: int64\n"
          ]
        }
      ]
    },
    {
      "cell_type": "code",
      "source": [
        "import matplotlib.pyplot as plt\n",
        "\n",
        "# Plot 'Global_active_power' over time\n",
        "plt.figure(figsize=(12,6))\n",
        "plt.plot(data.index, data['Global_active_power'], label='Global Active Power')\n",
        "plt.xlabel('Time')\n",
        "plt.ylabel('Global Active Power (kilowatts)')\n",
        "plt.title('Global Active Power over Time')\n",
        "plt.legend()\n",
        "plt.show()\n"
      ],
      "metadata": {
        "colab": {
          "base_uri": "https://localhost:8080/",
          "height": 564
        },
        "id": "8iXrBZ6z9ho2",
        "outputId": "c5854db4-5ecd-4132-91dc-9c65d1a17618"
      },
      "execution_count": 10,
      "outputs": [
        {
          "output_type": "display_data",
          "data": {
            "text/plain": [
              "<Figure size 1200x600 with 1 Axes>"
            ],
            "image/png": "[encoded data removed]"
          },
          "metadata": {}
        }
      ]
    },
    {
      "cell_type": "code",
      "source": [
        "# Create lag feature for 'Global_active_power' (1-hour lag)\n",
        "data['Global_active_power_lag1'] = data['Global_active_power'].shift(1)\n",
        "\n",
        "# Check the first few rows to verify the lag feature\n",
        "print(data[['Global_active_power', 'Global_active_power_lag1']].head())\n"
      ],
      "metadata": {
        "colab": {
          "base_uri": "https://localhost:8080/",
          "height": 0
        },
        "id": "IU1xHqVt9u_X",
        "outputId": "93db32d6-f467-441e-cc4c-5e8ddb3266d2"
      },
      "execution_count": 11,
      "outputs": [
        {
          "output_type": "stream",
          "name": "stdout",
          "text": [
            "                     Global_active_power  Global_active_power_lag1\n",
            "Datetime                                                          \n",
            "2006-12-16 17:24:00                4.216                       NaN\n",
            "2006-12-16 17:25:00                5.360                     4.216\n",
            "2006-12-16 17:26:00                5.374                     5.360\n",
            "2006-12-16 17:27:00                5.388                     5.374\n",
            "2006-12-16 17:28:00                3.666                     5.388\n"
          ]
        }
      ]
    },
    {
      "cell_type": "code",
      "source": [
        "# Forward fill missing values in lagged feature\n",
        "data['Global_active_power_lag1'].fillna(method='ffill', inplace=True)\n",
        "\n",
        "# Verify the missing values are handled\n",
        "print(data[['Global_active_power', 'Global_active_power_lag1']].head())\n"
      ],
      "metadata": {
        "colab": {
          "base_uri": "https://localhost:8080/",
          "height": 0
        },
        "id": "F7i-t4sh9222",
        "outputId": "e5a6dbf9-9711-405c-8fa2-6affa3440a58"
      },
      "execution_count": 12,
      "outputs": [
        {
          "output_type": "stream",
          "name": "stdout",
          "text": [
            "                     Global_active_power  Global_active_power_lag1\n",
            "Datetime                                                          \n",
            "2006-12-16 17:24:00                4.216                       NaN\n",
            "2006-12-16 17:25:00                5.360                     4.216\n",
            "2006-12-16 17:26:00                5.374                     5.360\n",
            "2006-12-16 17:27:00                5.388                     5.374\n",
            "2006-12-16 17:28:00                3.666                     5.388\n"
          ]
        },
        {
          "output_type": "stream",
          "name": "stderr",
          "text": [
            "<ipython-input-12-6fe8d87c9e50>:2: FutureWarning: A value is trying to be set on a copy of a DataFrame or Series through chained assignment using an inplace method.\n",
            "The behavior will change in pandas 3.0. This inplace method will never work because the intermediate object on which we are setting values always behaves as a copy.\n",
            "\n",
            "For example, when doing 'df[col].method(value, inplace=True)', try using 'df.method({col: value}, inplace=True)' or df[col] = df[col].method(value) instead, to perform the operation inplace on the original object.\n",
            "\n",
            "\n",
            "  data['Global_active_power_lag1'].fillna(method='ffill', inplace=True)\n",
            "<ipython-input-12-6fe8d87c9e50>:2: FutureWarning: Series.fillna with 'method' is deprecated and will raise in a future version. Use obj.ffill() or obj.bfill() instead.\n",
            "  data['Global_active_power_lag1'].fillna(method='ffill', inplace=True)\n"
          ]
        }
      ]
    },
    {
      "cell_type": "code",
      "source": [
        "# Forward fill missing values in lagged feature\n",
        "data['Global_active_power_lag1'] = data['Global_active_power_lag1'].ffill()\n",
        "\n",
        "# Verify the missing values are handled\n",
        "print(data[['Global_active_power', 'Global_active_power_lag1']].head())\n"
      ],
      "metadata": {
        "colab": {
          "base_uri": "https://localhost:8080/",
          "height": 0
        },
        "id": "QKW7XgqW96S5",
        "outputId": "871e28ad-e907-4aa8-a6fb-b3ffe9bccb43"
      },
      "execution_count": 13,
      "outputs": [
        {
          "output_type": "stream",
          "name": "stdout",
          "text": [
            "                     Global_active_power  Global_active_power_lag1\n",
            "Datetime                                                          \n",
            "2006-12-16 17:24:00                4.216                       NaN\n",
            "2006-12-16 17:25:00                5.360                     4.216\n",
            "2006-12-16 17:26:00                5.374                     5.360\n",
            "2006-12-16 17:27:00                5.388                     5.374\n",
            "2006-12-16 17:28:00                3.666                     5.388\n"
          ]
        }
      ]
    },
    {
      "cell_type": "code",
      "source": [
        "# Forward fill missing values in lagged feature\n",
        "data['Global_active_power_lag1'] = data['Global_active_power_lag1'].ffill()\n",
        "\n",
        "# If the first value is still missing, backfill it\n",
        "data['Global_active_power_lag1'] = data['Global_active_power_lag1'].bfill()\n",
        "\n",
        "# Verify the missing values are handled\n",
        "print(data[['Global_active_power', 'Global_active_power_lag1']].head())\n"
      ],
      "metadata": {
        "colab": {
          "base_uri": "https://localhost:8080/",
          "height": 0
        },
        "id": "zJX2VYNx-KuM",
        "outputId": "5e37da30-743a-45c6-d8a9-0208134ecaab"
      },
      "execution_count": 14,
      "outputs": [
        {
          "output_type": "stream",
          "name": "stdout",
          "text": [
            "                     Global_active_power  Global_active_power_lag1\n",
            "Datetime                                                          \n",
            "2006-12-16 17:24:00                4.216                     4.216\n",
            "2006-12-16 17:25:00                5.360                     4.216\n",
            "2006-12-16 17:26:00                5.374                     5.360\n",
            "2006-12-16 17:27:00                5.388                     5.374\n",
            "2006-12-16 17:28:00                3.666                     5.388\n"
          ]
        }
      ]
    },
    {
      "cell_type": "code",
      "source": [
        "import matplotlib.pyplot as plt\n",
        "\n",
        "# Plot the data\n",
        "plt.figure(figsize=(10, 6))\n",
        "plt.plot(data.index, data['Global_active_power'], label='Global Active Power', color='blue')\n",
        "plt.plot(data.index, data['Global_active_power_lag1'], label='Global Active Power Lag1', color='orange', linestyle='--')\n",
        "plt.xlabel('Datetime')\n",
        "plt.ylabel('Power (kilowatts)')\n",
        "plt.title('Global Active Power and Lag1 Comparison')\n",
        "plt.legend()\n",
        "plt.xticks(rotation=45)\n",
        "plt.tight_layout()\n",
        "plt.show()\n"
      ],
      "metadata": {
        "colab": {
          "base_uri": "https://localhost:8080/",
          "height": 607
        },
        "id": "h1a-e2Cg-Uqw",
        "outputId": "c7499b7a-356a-47a4-aa02-eed073271021"
      },
      "execution_count": 15,
      "outputs": [
        {
          "output_type": "display_data",
          "data": {
            "text/plain": [
              "<Figure size 1000x600 with 1 Axes>"
            ],
            "image/png": "[encoded data removed]"
          },
          "metadata": {}
        }
      ]
    },
    {
      "cell_type": "code",
      "source": [
        "# Calculate the correlation between the two columns\n",
        "correlation = data['Global_active_power'].corr(data['Global_active_power_lag1'])\n",
        "\n",
        "# Print the correlation value\n",
        "print(f\"Correlation between Global_active_power and Global_active_power_lag1: {correlation}\")\n"
      ],
      "metadata": {
        "colab": {
          "base_uri": "https://localhost:8080/",
          "height": 0
        },
        "id": "8XRedohC-fdh",
        "outputId": "0105ebab-a83c-42b5-8c0f-8b97ad3803d1"
      },
      "execution_count": 16,
      "outputs": [
        {
          "output_type": "stream",
          "name": "stdout",
          "text": [
            "Correlation between Global_active_power and Global_active_power_lag1: 0.9680156312213238\n"
          ]
        }
      ]
    },
    {
      "cell_type": "code",
      "source": [
        "from sklearn.model_selection import train_test_split\n",
        "from sklearn.linear_model import LinearRegression\n",
        "from sklearn.metrics import mean_squared_error\n",
        "\n",
        "# Prepare the features and target\n",
        "X = data[['Global_active_power_lag1']]  # Feature\n",
        "y = data['Global_active_power']  # Target\n",
        "\n",
        "# Split the data into train and test sets\n",
        "X_train, X_test, y_train, y_test = train_test_split(X, y, test_size=0.2, shuffle=False)\n",
        "\n",
        "# Train the linear regression model\n",
        "model = LinearRegression()\n",
        "model.fit(X_train, y_train)\n",
        "\n",
        "# Make predictions\n",
        "y_pred = model.predict(X_test)\n",
        "\n",
        "# Calculate the mean squared error\n",
        "mse = mean_squared_error(y_test, y_pred)\n",
        "print(f\"Mean Squared Error: {mse}\")\n",
        "\n",
        "# Optional: Print the model coefficients\n",
        "print(f\"Model Coefficients: {model.coef_}\")\n"
      ],
      "metadata": {
        "colab": {
          "base_uri": "https://localhost:8080/",
          "height": 0
        },
        "id": "64BYlh6d-nwm",
        "outputId": "c72b1ee2-c89c-40fe-de75-be11c9f738de"
      },
      "execution_count": 17,
      "outputs": [
        {
          "output_type": "stream",
          "name": "stdout",
          "text": [
            "Mean Squared Error: 0.046449704287150055\n",
            "Model Coefficients: [0.9677386]\n"
          ]
        }
      ]
    },
    {
      "cell_type": "code",
      "source": [
        "# Add additional lags to the data\n",
        "data['Global_active_power_lag2'] = data['Global_active_power'].shift(2)\n",
        "data['Global_active_power_lag3'] = data['Global_active_power'].shift(3)\n",
        "\n",
        "# Drop rows with NaN values (which will be introduced by the new lags)\n",
        "data = data.dropna()\n",
        "\n",
        "# Display the updated data\n",
        "print(data.head())\n"
      ],
      "metadata": {
        "colab": {
          "base_uri": "https://localhost:8080/",
          "height": 0
        },
        "id": "ZAcVcVXN_GlT",
        "outputId": "e17a3e1c-5bda-41bc-9517-a3897e2d7b15"
      },
      "execution_count": 18,
      "outputs": [
        {
          "output_type": "stream",
          "name": "stdout",
          "text": [
            "                     Global_active_power  Global_reactive_power  Voltage  \\\n",
            "Datetime                                                                   \n",
            "2006-12-16 17:27:00                5.388                  0.502   233.74   \n",
            "2006-12-16 17:28:00                3.666                  0.528   235.68   \n",
            "2006-12-16 17:29:00                3.520                  0.522   235.02   \n",
            "2006-12-16 17:30:00                3.702                  0.520   235.09   \n",
            "2006-12-16 17:31:00                3.700                  0.520   235.22   \n",
            "\n",
            "                     Global_intensity  Sub_metering_1  Sub_metering_2  \\\n",
            "Datetime                                                                \n",
            "2006-12-16 17:27:00              23.0             0.0             1.0   \n",
            "2006-12-16 17:28:00              15.8             0.0             1.0   \n",
            "2006-12-16 17:29:00              15.0             0.0             2.0   \n",
            "2006-12-16 17:30:00              15.8             0.0             1.0   \n",
            "2006-12-16 17:31:00              15.8             0.0             1.0   \n",
            "\n",
            "                     Sub_metering_3  Global_active_power_lag1  \\\n",
            "Datetime                                                        \n",
            "2006-12-16 17:27:00            17.0                     5.374   \n",
            "2006-12-16 17:28:00            17.0                     5.388   \n",
            "2006-12-16 17:29:00            17.0                     3.666   \n",
            "2006-12-16 17:30:00            17.0                     3.520   \n",
            "2006-12-16 17:31:00            17.0                     3.702   \n",
            "\n",
            "                     Global_active_power_lag2  Global_active_power_lag3  \n",
            "Datetime                                                                 \n",
            "2006-12-16 17:27:00                     5.360                     4.216  \n",
            "2006-12-16 17:28:00                     5.374                     5.360  \n",
            "2006-12-16 17:29:00                     5.388                     5.374  \n",
            "2006-12-16 17:30:00                     3.666                     5.388  \n",
            "2006-12-16 17:31:00                     3.520                     3.666  \n"
          ]
        }
      ]
    },
    {
      "cell_type": "code",
      "source": [
        "# Calculate the correlation between Global_active_power and its lags\n",
        "correlations = data[['Global_active_power', 'Global_active_power_lag1', 'Global_active_power_lag2', 'Global_active_power_lag3']].corr()\n",
        "print(correlations)\n"
      ],
      "metadata": {
        "colab": {
          "base_uri": "https://localhost:8080/",
          "height": 0
        },
        "id": "KvCWlc0W_NTL",
        "outputId": "1f1eb886-5192-4409-ebd2-65204a0a6521"
      },
      "execution_count": 19,
      "outputs": [
        {
          "output_type": "stream",
          "name": "stdout",
          "text": [
            "                          Global_active_power  Global_active_power_lag1  \\\n",
            "Global_active_power                  1.000000                  0.968015   \n",
            "Global_active_power_lag1             0.968015                  1.000000   \n",
            "Global_active_power_lag2             0.933791                  0.968016   \n",
            "Global_active_power_lag3             0.906703                  0.933791   \n",
            "\n",
            "                          Global_active_power_lag2  Global_active_power_lag3  \n",
            "Global_active_power                       0.933791                  0.906703  \n",
            "Global_active_power_lag1                  0.968016                  0.933791  \n",
            "Global_active_power_lag2                  1.000000                  0.968015  \n",
            "Global_active_power_lag3                  0.968015                  1.000000  \n"
          ]
        }
      ]
    },
    {
      "cell_type": "code",
      "source": [
        "from sklearn.model_selection import train_test_split\n",
        "from sklearn.linear_model import LinearRegression\n",
        "from sklearn.metrics import mean_squared_error, r2_score\n",
        "\n",
        "# Select features (lags) and target variable\n",
        "features = data[['Global_active_power_lag1', 'Global_active_power_lag2', 'Global_active_power_lag3']]\n",
        "target = data['Global_active_power']\n",
        "\n",
        "# Split the data into training and testing sets\n",
        "X_train, X_test, y_train, y_test = train_test_split(features, target, test_size=0.2, shuffle=False)\n",
        "\n",
        "# Initialize the model\n",
        "model = LinearRegression()\n",
        "\n",
        "# Train the model\n",
        "model.fit(X_train, y_train)\n",
        "\n",
        "# Make predictions on the test set\n",
        "y_pred = model.predict(X_test)\n",
        "\n",
        "# Calculate Mean Squared Error\n",
        "mse = mean_squared_error(y_test, y_pred)\n",
        "\n",
        "# Calculate R²\n",
        "r2 = r2_score(y_test, y_pred)\n",
        "\n",
        "# Display the results\n",
        "print(f\"Mean Squared Error: {mse}\")\n",
        "print(f\"R² Score: {r2}\")\n"
      ],
      "metadata": {
        "colab": {
          "base_uri": "https://localhost:8080/",
          "height": 0
        },
        "id": "Zwrn3mFM_cLo",
        "outputId": "b41f2aa5-0bda-4b55-ce34-79a75bc41617"
      },
      "execution_count": 20,
      "outputs": [
        {
          "output_type": "stream",
          "name": "stdout",
          "text": [
            "Mean Squared Error: 0.046365596368782895\n",
            "R² Score: 0.9395439792471494\n"
          ]
        }
      ]
    },
    {
      "cell_type": "code",
      "source": [
        "# Checking for missing values in the dataset\n",
        "print(\"Missing values before handling:\")\n",
        "print(data.isnull().sum())\n",
        "\n",
        "# Filling missing values with forward fill method\n",
        "data.fillna(method='ffill', inplace=True)\n",
        "\n",
        "print(\"\\nMissing values after handling:\")\n",
        "print(data.isnull().sum())\n"
      ],
      "metadata": {
        "colab": {
          "base_uri": "https://localhost:8080/",
          "height": 0
        },
        "id": "faLsE0jb_48x",
        "outputId": "77484c2a-e052-4798-ca9f-04f507816a89"
      },
      "execution_count": 21,
      "outputs": [
        {
          "output_type": "stream",
          "name": "stdout",
          "text": [
            "Missing values before handling:\n",
            "Global_active_power         0\n",
            "Global_reactive_power       0\n",
            "Voltage                     0\n",
            "Global_intensity            0\n",
            "Sub_metering_1              0\n",
            "Sub_metering_2              0\n",
            "Sub_metering_3              0\n",
            "Global_active_power_lag1    0\n",
            "Global_active_power_lag2    0\n",
            "Global_active_power_lag3    0\n",
            "dtype: int64\n"
          ]
        },
        {
          "output_type": "stream",
          "name": "stderr",
          "text": [
            "<ipython-input-21-b695ea9be96a>:6: FutureWarning: DataFrame.fillna with 'method' is deprecated and will raise in a future version. Use obj.ffill() or obj.bfill() instead.\n",
            "  data.fillna(method='ffill', inplace=True)\n"
          ]
        },
        {
          "output_type": "stream",
          "name": "stdout",
          "text": [
            "\n",
            "Missing values after handling:\n",
            "Global_active_power         0\n",
            "Global_reactive_power       0\n",
            "Voltage                     0\n",
            "Global_intensity            0\n",
            "Sub_metering_1              0\n",
            "Sub_metering_2              0\n",
            "Sub_metering_3              0\n",
            "Global_active_power_lag1    0\n",
            "Global_active_power_lag2    0\n",
            "Global_active_power_lag3    0\n",
            "dtype: int64\n"
          ]
        }
      ]
    },
    {
      "cell_type": "code",
      "source": [
        "# Create a new feature: power ratio between Global_active_power and Global_reactive_power\n",
        "data['power_ratio'] = data['Global_active_power'] / data['Global_reactive_power']\n",
        "\n",
        "# Display the new feature to check\n",
        "print(data[['Global_active_power', 'Global_reactive_power', 'power_ratio']].head())\n"
      ],
      "metadata": {
        "colab": {
          "base_uri": "https://localhost:8080/",
          "height": 0
        },
        "id": "vpNKtUEx__p4",
        "outputId": "18b454e3-b2f4-4300-adda-41686efe8199"
      },
      "execution_count": 22,
      "outputs": [
        {
          "output_type": "stream",
          "name": "stdout",
          "text": [
            "                     Global_active_power  Global_reactive_power  power_ratio\n",
            "Datetime                                                                    \n",
            "2006-12-16 17:27:00                5.388                  0.502    10.733068\n",
            "2006-12-16 17:28:00                3.666                  0.528     6.943182\n",
            "2006-12-16 17:29:00                3.520                  0.522     6.743295\n",
            "2006-12-16 17:30:00                3.702                  0.520     7.119231\n",
            "2006-12-16 17:31:00                3.700                  0.520     7.115385\n"
          ]
        }
      ]
    },
    {
      "cell_type": "code",
      "source": [
        "# Define features and target variable\n",
        "X = data[['Global_active_power', 'Global_active_power_lag1', 'Global_active_power_lag2',\n",
        "          'Global_active_power_lag3', 'power_ratio']]  # Include the new feature\n",
        "y = data['Global_active_power']  # Target variable\n",
        "\n",
        "# Split the data into training and testing sets\n",
        "from sklearn.model_selection import train_test_split\n",
        "X_train, X_test, y_train, y_test = train_test_split(X, y, test_size=0.2, random_state=42)\n",
        "\n",
        "# Re-train the model (Linear Regression)\n",
        "from sklearn.linear_model import LinearRegression\n",
        "model = LinearRegression()\n",
        "model.fit(X_train, y_train)\n",
        "\n",
        "# Make predictions\n",
        "y_pred = model.predict(X_test)\n",
        "\n",
        "# Evaluate the model\n",
        "from sklearn.metrics import mean_squared_error, r2_score\n",
        "mse = mean_squared_error(y_test, y_pred)\n",
        "r2 = r2_score(y_test, y_pred)\n",
        "\n",
        "print(f'Mean Squared Error: {mse}')\n",
        "print(f'R² Score: {r2}')\n"
      ],
      "metadata": {
        "colab": {
          "base_uri": "https://localhost:8080/",
          "height": 356
        },
        "id": "jcjyxax6AHVo",
        "outputId": "e2a551a8-4444-41ce-ce74-071c40e471b2"
      },
      "execution_count": 23,
      "outputs": [
        {
          "output_type": "error",
          "ename": "ValueError",
          "evalue": "Input X contains infinity or a value too large for dtype('float64').",
          "traceback": [
            "\u001b[0;31m---------------------------------------------------------------------------\u001b[0m",
            "\u001b[0;31mValueError\u001b[0m                                Traceback (most recent call last)",
            "\u001b[0;32m<ipython-input-23-71b672ea9b73>\u001b[0m in \u001b[0;36m<cell line: 13>\u001b[0;34m()\u001b[0m\n\u001b[1;32m     11\u001b[0m \u001b[0;32mfrom\u001b[0m \u001b[0msklearn\u001b[0m\u001b[0;34m.\u001b[0m\u001b[0mlinear_model\u001b[0m \u001b[0;32mimport\u001b[0m \u001b[0mLinearRegression\u001b[0m\u001b[0;34m\u001b[0m\u001b[0;34m\u001b[0m\u001b[0m\n\u001b[1;32m     12\u001b[0m \u001b[0mmodel\u001b[0m \u001b[0;34m=\u001b[0m \u001b[0mLinearRegression\u001b[0m\u001b[0;34m(\u001b[0m\u001b[0;34m)\u001b[0m\u001b[0;34m\u001b[0m\u001b[0;34m\u001b[0m\u001b[0m\n\u001b[0;32m---> 13\u001b[0;31m \u001b[0mmodel\u001b[0m\u001b[0;34m.\u001b[0m\u001b[0mfit\u001b[0m\u001b[0;34m(\u001b[0m\u001b[0mX_train\u001b[0m\u001b[0;34m,\u001b[0m \u001b[0my_train\u001b[0m\u001b[0;34m)\u001b[0m\u001b[0;34m\u001b[0m\u001b[0;34m\u001b[0m\u001b[0m\n\u001b[0m\u001b[1;32m     14\u001b[0m \u001b[0;34m\u001b[0m\u001b[0m\n\u001b[1;32m     15\u001b[0m \u001b[0;31m# Make predictions\u001b[0m\u001b[0;34m\u001b[0m\u001b[0;34m\u001b[0m\u001b[0m\n",
            "\u001b[0;32m/usr/local/lib/python3.10/dist-packages/sklearn/base.py\u001b[0m in \u001b[0;36mwrapper\u001b[0;34m(estimator, *args, **kwargs)\u001b[0m\n\u001b[1;32m   1471\u001b[0m                 )\n\u001b[1;32m   1472\u001b[0m             ):\n\u001b[0;32m-> 1473\u001b[0;31m                 \u001b[0;32mreturn\u001b[0m \u001b[0mfit_method\u001b[0m\u001b[0;34m(\u001b[0m\u001b[0mestimator\u001b[0m\u001b[0;34m,\u001b[0m \u001b[0;34m*\u001b[0m\u001b[0margs\u001b[0m\u001b[0;34m,\u001b[0m \u001b[0;34m**\u001b[0m\u001b[0mkwargs\u001b[0m\u001b[0;34m)\u001b[0m\u001b[0;34m\u001b[0m\u001b[0;34m\u001b[0m\u001b[0m\n\u001b[0m\u001b[1;32m   1474\u001b[0m \u001b[0;34m\u001b[0m\u001b[0m\n\u001b[1;32m   1475\u001b[0m         \u001b[0;32mreturn\u001b[0m \u001b[0mwrapper\u001b[0m\u001b[0;34m\u001b[0m\u001b[0;34m\u001b[0m\u001b[0m\n",
            "\u001b[0;32m/usr/local/lib/python3.10/dist-packages/sklearn/linear_model/_base.py\u001b[0m in \u001b[0;36mfit\u001b[0;34m(self, X, y, sample_weight)\u001b[0m\n\u001b[1;32m    607\u001b[0m         \u001b[0maccept_sparse\u001b[0m \u001b[0;34m=\u001b[0m \u001b[0;32mFalse\u001b[0m \u001b[0;32mif\u001b[0m \u001b[0mself\u001b[0m\u001b[0;34m.\u001b[0m\u001b[0mpositive\u001b[0m \u001b[0;32melse\u001b[0m \u001b[0;34m[\u001b[0m\u001b[0;34m\"csr\"\u001b[0m\u001b[0;34m,\u001b[0m \u001b[0;34m\"csc\"\u001b[0m\u001b[0;34m,\u001b[0m \u001b[0;34m\"coo\"\u001b[0m\u001b[0;34m]\u001b[0m\u001b[0;34m\u001b[0m\u001b[0;34m\u001b[0m\u001b[0m\n\u001b[1;32m    608\u001b[0m \u001b[0;34m\u001b[0m\u001b[0m\n\u001b[0;32m--> 609\u001b[0;31m         X, y = self._validate_data(\n\u001b[0m\u001b[1;32m    610\u001b[0m             \u001b[0mX\u001b[0m\u001b[0;34m,\u001b[0m\u001b[0;34m\u001b[0m\u001b[0;34m\u001b[0m\u001b[0m\n\u001b[1;32m    611\u001b[0m             \u001b[0my\u001b[0m\u001b[0;34m,\u001b[0m\u001b[0;34m\u001b[0m\u001b[0;34m\u001b[0m\u001b[0m\n",
            "\u001b[0;32m/usr/local/lib/python3.10/dist-packages/sklearn/base.py\u001b[0m in \u001b[0;36m_validate_data\u001b[0;34m(self, X, y, reset, validate_separately, cast_to_ndarray, **check_params)\u001b[0m\n\u001b[1;32m    648\u001b[0m                 \u001b[0my\u001b[0m \u001b[0;34m=\u001b[0m \u001b[0mcheck_array\u001b[0m\u001b[0;34m(\u001b[0m\u001b[0my\u001b[0m\u001b[0;34m,\u001b[0m \u001b[0minput_name\u001b[0m\u001b[0;34m=\u001b[0m\u001b[0;34m\"y\"\u001b[0m\u001b[0;34m,\u001b[0m \u001b[0;34m**\u001b[0m\u001b[0mcheck_y_params\u001b[0m\u001b[0;34m)\u001b[0m\u001b[0;34m\u001b[0m\u001b[0;34m\u001b[0m\u001b[0m\n\u001b[1;32m    649\u001b[0m             \u001b[0;32melse\u001b[0m\u001b[0;34m:\u001b[0m\u001b[0;34m\u001b[0m\u001b[0;34m\u001b[0m\u001b[0m\n\u001b[0;32m--> 650\u001b[0;31m                 \u001b[0mX\u001b[0m\u001b[0;34m,\u001b[0m \u001b[0my\u001b[0m \u001b[0;34m=\u001b[0m \u001b[0mcheck_X_y\u001b[0m\u001b[0;34m(\u001b[0m\u001b[0mX\u001b[0m\u001b[0;34m,\u001b[0m \u001b[0my\u001b[0m\u001b[0;34m,\u001b[0m \u001b[0;34m**\u001b[0m\u001b[0mcheck_params\u001b[0m\u001b[0;34m)\u001b[0m\u001b[0;34m\u001b[0m\u001b[0;34m\u001b[0m\u001b[0m\n\u001b[0m\u001b[1;32m    651\u001b[0m             \u001b[0mout\u001b[0m \u001b[0;34m=\u001b[0m \u001b[0mX\u001b[0m\u001b[0;34m,\u001b[0m \u001b[0my\u001b[0m\u001b[0;34m\u001b[0m\u001b[0;34m\u001b[0m\u001b[0m\n\u001b[1;32m    652\u001b[0m \u001b[0;34m\u001b[0m\u001b[0m\n",
            "\u001b[0;32m/usr/local/lib/python3.10/dist-packages/sklearn/utils/validation.py\u001b[0m in \u001b[0;36mcheck_X_y\u001b[0;34m(X, y, accept_sparse, accept_large_sparse, dtype, order, copy, force_writeable, force_all_finite, ensure_2d, allow_nd, multi_output, ensure_min_samples, ensure_min_features, y_numeric, estimator)\u001b[0m\n\u001b[1;32m   1299\u001b[0m         )\n\u001b[1;32m   1300\u001b[0m \u001b[0;34m\u001b[0m\u001b[0m\n\u001b[0;32m-> 1301\u001b[0;31m     X = check_array(\n\u001b[0m\u001b[1;32m   1302\u001b[0m         \u001b[0mX\u001b[0m\u001b[0;34m,\u001b[0m\u001b[0;34m\u001b[0m\u001b[0;34m\u001b[0m\u001b[0m\n\u001b[1;32m   1303\u001b[0m         \u001b[0maccept_sparse\u001b[0m\u001b[0;34m=\u001b[0m\u001b[0maccept_sparse\u001b[0m\u001b[0;34m,\u001b[0m\u001b[0;34m\u001b[0m\u001b[0;34m\u001b[0m\u001b[0m\n",
            "\u001b[0;32m/usr/local/lib/python3.10/dist-packages/sklearn/utils/validation.py\u001b[0m in \u001b[0;36mcheck_array\u001b[0;34m(array, accept_sparse, accept_large_sparse, dtype, order, copy, force_writeable, force_all_finite, ensure_2d, allow_nd, ensure_min_samples, ensure_min_features, estimator, input_name)\u001b[0m\n\u001b[1;32m   1062\u001b[0m \u001b[0;34m\u001b[0m\u001b[0m\n\u001b[1;32m   1063\u001b[0m         \u001b[0;32mif\u001b[0m \u001b[0mforce_all_finite\u001b[0m\u001b[0;34m:\u001b[0m\u001b[0;34m\u001b[0m\u001b[0;34m\u001b[0m\u001b[0m\n\u001b[0;32m-> 1064\u001b[0;31m             _assert_all_finite(\n\u001b[0m\u001b[1;32m   1065\u001b[0m                 \u001b[0marray\u001b[0m\u001b[0;34m,\u001b[0m\u001b[0;34m\u001b[0m\u001b[0;34m\u001b[0m\u001b[0m\n\u001b[1;32m   1066\u001b[0m                 \u001b[0minput_name\u001b[0m\u001b[0;34m=\u001b[0m\u001b[0minput_name\u001b[0m\u001b[0;34m,\u001b[0m\u001b[0;34m\u001b[0m\u001b[0;34m\u001b[0m\u001b[0m\n",
            "\u001b[0;32m/usr/local/lib/python3.10/dist-packages/sklearn/utils/validation.py\u001b[0m in \u001b[0;36m_assert_all_finite\u001b[0;34m(X, allow_nan, msg_dtype, estimator_name, input_name)\u001b[0m\n\u001b[1;32m    121\u001b[0m         \u001b[0;32mreturn\u001b[0m\u001b[0;34m\u001b[0m\u001b[0;34m\u001b[0m\u001b[0m\n\u001b[1;32m    122\u001b[0m \u001b[0;34m\u001b[0m\u001b[0m\n\u001b[0;32m--> 123\u001b[0;31m     _assert_all_finite_element_wise(\n\u001b[0m\u001b[1;32m    124\u001b[0m         \u001b[0mX\u001b[0m\u001b[0;34m,\u001b[0m\u001b[0;34m\u001b[0m\u001b[0;34m\u001b[0m\u001b[0m\n\u001b[1;32m    125\u001b[0m         \u001b[0mxp\u001b[0m\u001b[0;34m=\u001b[0m\u001b[0mxp\u001b[0m\u001b[0;34m,\u001b[0m\u001b[0;34m\u001b[0m\u001b[0;34m\u001b[0m\u001b[0m\n",
            "\u001b[0;32m/usr/local/lib/python3.10/dist-packages/sklearn/utils/validation.py\u001b[0m in \u001b[0;36m_assert_all_finite_element_wise\u001b[0;34m(X, xp, allow_nan, msg_dtype, estimator_name, input_name)\u001b[0m\n\u001b[1;32m    170\u001b[0m                 \u001b[0;34m\"#estimators-that-handle-nan-values\"\u001b[0m\u001b[0;34m\u001b[0m\u001b[0;34m\u001b[0m\u001b[0m\n\u001b[1;32m    171\u001b[0m             )\n\u001b[0;32m--> 172\u001b[0;31m         \u001b[0;32mraise\u001b[0m \u001b[0mValueError\u001b[0m\u001b[0;34m(\u001b[0m\u001b[0mmsg_err\u001b[0m\u001b[0;34m)\u001b[0m\u001b[0;34m\u001b[0m\u001b[0;34m\u001b[0m\u001b[0m\n\u001b[0m\u001b[1;32m    173\u001b[0m \u001b[0;34m\u001b[0m\u001b[0m\n\u001b[1;32m    174\u001b[0m \u001b[0;34m\u001b[0m\u001b[0m\n",
            "\u001b[0;31mValueError\u001b[0m: Input X contains infinity or a value too large for dtype('float64')."
          ]
        }
      ]
    },
    {
      "cell_type": "code",
      "source": [
        "# Check for any NaN values in the features\n",
        "print(\"Checking for NaN values in the features:\")\n",
        "print(X.isna().sum())  # This will give the number of missing values in each feature\n"
      ],
      "metadata": {
        "colab": {
          "base_uri": "https://localhost:8080/",
          "height": 0
        },
        "id": "8uGP9VduAhiw",
        "outputId": "6220b872-418a-4c8a-8c23-a4e1098160f2"
      },
      "execution_count": 24,
      "outputs": [
        {
          "output_type": "stream",
          "name": "stdout",
          "text": [
            "Checking for NaN values in the features:\n",
            "Global_active_power         0\n",
            "Global_active_power_lag1    0\n",
            "Global_active_power_lag2    0\n",
            "Global_active_power_lag3    0\n",
            "power_ratio                 0\n",
            "dtype: int64\n"
          ]
        }
      ]
    },
    {
      "cell_type": "code",
      "source": [
        "import numpy as np\n",
        "\n",
        "# Check for infinity values in the features\n",
        "print(\"Checking for infinity values in the features:\")\n",
        "print((X == np.inf).sum())  # Count of infinity values in each feature\n",
        "print((X == -np.inf).sum())  # Count of negative infinity values in each feature\n"
      ],
      "metadata": {
        "colab": {
          "base_uri": "https://localhost:8080/",
          "height": 0
        },
        "id": "yesNMPY8AnTw",
        "outputId": "3331b0ae-d879-4f86-cdfc-a50740c2b795"
      },
      "execution_count": 26,
      "outputs": [
        {
          "output_type": "stream",
          "name": "stdout",
          "text": [
            "Checking for infinity values in the features:\n",
            "Global_active_power              0\n",
            "Global_active_power_lag1         0\n",
            "Global_active_power_lag2         0\n",
            "Global_active_power_lag3         0\n",
            "power_ratio                 481561\n",
            "dtype: int64\n",
            "Global_active_power         0\n",
            "Global_active_power_lag1    0\n",
            "Global_active_power_lag2    0\n",
            "Global_active_power_lag3    0\n",
            "power_ratio                 0\n",
            "dtype: int64\n"
          ]
        }
      ]
    },
    {
      "cell_type": "code",
      "source": [
        "# Replace infinity values in power_ratio with NaN\n",
        "X.loc[:, 'power_ratio'] = X['power_ratio'].replace([np.inf, -np.inf], np.nan)\n",
        "\n",
        "# Fill NaN values with the median\n",
        "X.loc[:, 'power_ratio'] = X['power_ratio'].fillna(X['power_ratio'].median())\n"
      ],
      "metadata": {
        "id": "m6ptovQBA0g4"
      },
      "execution_count": 28,
      "outputs": []
    },
    {
      "cell_type": "code",
      "source": [
        "from sklearn.model_selection import train_test_split\n",
        "\n",
        "# Splitting the data into training and testing sets\n",
        "X_train, X_test, y_train, y_test = train_test_split(X, y, test_size=0.2, random_state=42)\n",
        "\n",
        "print(\"Training set shape:\", X_train.shape)\n",
        "print(\"Test set shape:\", X_test.shape)\n"
      ],
      "metadata": {
        "colab": {
          "base_uri": "https://localhost:8080/",
          "height": 0
        },
        "id": "OcgMt2d1BIx9",
        "outputId": "032e1724-624e-431b-ffe8-0a5d5e520186"
      },
      "execution_count": 29,
      "outputs": [
        {
          "output_type": "stream",
          "name": "stdout",
          "text": [
            "Training set shape: (1660204, 5)\n",
            "Test set shape: (415052, 5)\n"
          ]
        }
      ]
    },
    {
      "cell_type": "code",
      "source": [
        "from sklearn.linear_model import LinearRegression\n",
        "\n",
        "# Initialize the Linear Regression model\n",
        "model = LinearRegression()\n",
        "\n",
        "# Train the model using the training data\n",
        "model.fit(X_train, y_train)\n",
        "\n",
        "# Print the model's coefficients\n",
        "print(\"Model Coefficients:\", model.coef_)\n",
        "print(\"Model Intercept:\", model.intercept_)\n"
      ],
      "metadata": {
        "colab": {
          "base_uri": "https://localhost:8080/",
          "height": 0
        },
        "id": "qSHgmoH9BN-9",
        "outputId": "aa98cb83-ba22-48ac-d5ea-e79b2e826674"
      },
      "execution_count": 30,
      "outputs": [
        {
          "output_type": "stream",
          "name": "stdout",
          "text": [
            "Model Coefficients: [ 1.00000000e+00  1.14367646e-16 -8.91951628e-17 -2.41129517e-16\n",
            "  6.97692464e-18]\n",
            "Model Intercept: 6.661338147750939e-16\n"
          ]
        }
      ]
    },
    {
      "cell_type": "code",
      "source": [
        "from sklearn.metrics import mean_squared_error, r2_score\n",
        "\n",
        "# Make predictions on the test set\n",
        "y_pred = model.predict(X_test)\n",
        "\n",
        "# Calculate Mean Squared Error (MSE) and R² Score\n",
        "mse = mean_squared_error(y_test, y_pred)\n",
        "r2 = r2_score(y_test, y_pred)\n",
        "\n",
        "print(\"Mean Squared Error:\", mse)\n",
        "print(\"R² Score:\", r2)\n"
      ],
      "metadata": {
        "colab": {
          "base_uri": "https://localhost:8080/",
          "height": 0
        },
        "id": "bJwoi0wnBV18",
        "outputId": "c1c1c7c2-7f44-4455-d5f6-e9eeecb618aa"
      },
      "execution_count": 31,
      "outputs": [
        {
          "output_type": "stream",
          "name": "stdout",
          "text": [
            "Mean Squared Error: 8.990130353066646e-31\n",
            "R² Score: 1.0\n"
          ]
        }
      ]
    },
    {
      "cell_type": "code",
      "source": [
        "from sklearn.metrics import mean_squared_error, r2_score\n",
        "\n",
        "# Make predictions on the test set\n",
        "y_test_pred = model.predict(X_test)\n",
        "\n",
        "# Evaluate the model\n",
        "mse_test = mean_squared_error(y_test, y_test_pred)\n",
        "r2_test = r2_score(y_test, y_test_pred)\n",
        "\n",
        "print(f\"Test Set Mean Squared Error: {mse_test}\")\n",
        "print(f\"Test Set R² Score: {r2_test}\")\n"
      ],
      "metadata": {
        "colab": {
          "base_uri": "https://localhost:8080/",
          "height": 0
        },
        "id": "Jh4-W1ugBmnJ",
        "outputId": "37a26933-2079-4ceb-ba3a-e6493d6868dc"
      },
      "execution_count": 32,
      "outputs": [
        {
          "output_type": "stream",
          "name": "stdout",
          "text": [
            "Test Set Mean Squared Error: 8.990130353066646e-31\n",
            "Test Set R² Score: 1.0\n"
          ]
        }
      ]
    },
    {
      "cell_type": "code",
      "source": [
        "from sklearn.model_selection import cross_val_score\n",
        "import numpy as np\n",
        "\n",
        "# Perform K-Fold Cross Validation\n",
        "cv_scores = cross_val_score(model, X, y, cv=5, scoring='neg_mean_squared_error')\n",
        "\n",
        "# Convert negative MSE to positive\n",
        "cv_scores = np.abs(cv_scores)\n",
        "\n",
        "# Output the cross-validation results\n",
        "print(f\"Cross-Validation MSE scores: {cv_scores}\")\n",
        "print(f\"Mean CV MSE: {cv_scores.mean()}\")\n",
        "print(f\"Standard Deviation of CV MSE: {cv_scores.std()}\")\n"
      ],
      "metadata": {
        "colab": {
          "base_uri": "https://localhost:8080/",
          "height": 0
        },
        "id": "bZUpXwxcBv-E",
        "outputId": "e1955ee5-721a-4cdc-9713-e67d101e4d99"
      },
      "execution_count": 33,
      "outputs": [
        {
          "output_type": "stream",
          "name": "stdout",
          "text": [
            "Cross-Validation MSE scores: [2.85108283e-31 6.07083856e-30 1.41243744e-30 1.04135367e-30\n",
            " 1.59100348e-30]\n",
            "Mean CV MSE: 2.0801482836681285e-30\n",
            "Standard Deviation of CV MSE: 2.045090321648436e-30\n"
          ]
        }
      ]
    },
    {
      "cell_type": "code",
      "source": [
        "from sklearn.linear_model import Ridge\n",
        "from sklearn.metrics import mean_squared_error, r2_score\n",
        "\n",
        "# Initialize Ridge model with a regularization parameter (alpha)\n",
        "ridge_model = Ridge(alpha=1.0)\n",
        "\n",
        "# Train the model on the training data\n",
        "ridge_model.fit(X_train, y_train)\n",
        "\n",
        "# Make predictions on the training and test set\n",
        "y_train_pred = ridge_model.predict(X_train)\n",
        "y_test_pred = ridge_model.predict(X_test)\n",
        "\n",
        "# Evaluate performance using MSE and R² score\n",
        "train_mse = mean_squared_error(y_train, y_train_pred)\n",
        "test_mse = mean_squared_error(y_test, y_test_pred)\n",
        "train_r2 = r2_score(y_train, y_train_pred)\n",
        "test_r2 = r2_score(y_test, y_test_pred)\n",
        "\n",
        "# Output the results\n",
        "print(f\"Training MSE (Ridge): {train_mse}\")\n",
        "print(f\"Test MSE (Ridge): {test_mse}\")\n",
        "print(f\"Training R² (Ridge): {train_r2}\")\n",
        "print(f\"Test R² (Ridge): {test_r2}\")\n"
      ],
      "metadata": {
        "colab": {
          "base_uri": "https://localhost:8080/",
          "height": 0
        },
        "id": "7PtkGMc-CBij",
        "outputId": "33c3fd11-aeeb-4496-fc26-9ddc6fa01f41"
      },
      "execution_count": 34,
      "outputs": [
        {
          "output_type": "stream",
          "name": "stdout",
          "text": [
            "Training MSE (Ridge): 5.4648513643563654e-12\n",
            "Test MSE (Ridge): 5.4677487106918644e-12\n",
            "Training R² (Ridge): 0.9999999999950602\n",
            "Test R² (Ridge): 0.9999999999950696\n"
          ]
        }
      ]
    },
    {
      "cell_type": "code",
      "source": [
        "from sklearn.linear_model import Lasso\n",
        "\n",
        "# Initialize Lasso model with a regularization parameter (alpha)\n",
        "lasso_model = Lasso(alpha=0.1)\n",
        "\n",
        "# Train the model on the training data\n",
        "lasso_model.fit(X_train, y_train)\n",
        "\n",
        "# Make predictions on the training and test set\n",
        "y_train_pred_lasso = lasso_model.predict(X_train)\n",
        "y_test_pred_lasso = lasso_model.predict(X_test)\n",
        "\n",
        "# Evaluate performance using MSE and R² score\n",
        "train_mse_lasso = mean_squared_error(y_train, y_train_pred_lasso)\n",
        "test_mse_lasso = mean_squared_error(y_test, y_test_pred_lasso)\n",
        "train_r2_lasso = r2_score(y_train, y_train_pred_lasso)\n",
        "test_r2_lasso = r2_score(y_test, y_test_pred_lasso)\n",
        "\n",
        "# Output the results\n",
        "print(f\"Training MSE (Lasso): {train_mse_lasso}\")\n",
        "print(f\"Test MSE (Lasso): {test_mse_lasso}\")\n",
        "print(f\"Training R² (Lasso): {train_r2_lasso}\")\n",
        "print(f\"Test R² (Lasso): {test_r2_lasso}\")\n"
      ],
      "metadata": {
        "colab": {
          "base_uri": "https://localhost:8080/",
          "height": 0
        },
        "id": "q8ZsH_WFCJNd",
        "outputId": "59116ba6-4de8-444f-f628-475f64290c5d"
      },
      "execution_count": 35,
      "outputs": [
        {
          "output_type": "stream",
          "name": "stdout",
          "text": [
            "Training MSE (Lasso): 0.012897306557479702\n",
            "Test MSE (Lasso): 0.01290126507947049\n",
            "Training R² (Lasso): 0.9883417240874601\n",
            "Test R² (Lasso): 0.9883665328553617\n"
          ]
        }
      ]
    },
    {
      "cell_type": "code",
      "source": [
        "from sklearn.linear_model import ElasticNet\n",
        "\n",
        "# Initialize ElasticNet model with alpha and l1_ratio (L1 + L2 regularization)\n",
        "elasticnet_model = ElasticNet(alpha=0.1, l1_ratio=0.5)\n",
        "\n",
        "# Train the model on the training data\n",
        "elasticnet_model.fit(X_train, y_train)\n",
        "\n",
        "# Make predictions on the training and test set\n",
        "y_train_pred_elasticnet = elasticnet_model.predict(X_train)\n",
        "y_test_pred_elasticnet = elasticnet_model.predict(X_test)\n",
        "\n",
        "# Evaluate performance using MSE and R² score\n",
        "train_mse_elasticnet = mean_squared_error(y_train, y_train_pred_elasticnet)\n",
        "test_mse_elasticnet = mean_squared_error(y_test, y_test_pred_elasticnet)\n",
        "train_r2_elasticnet = r2_score(y_train, y_train_pred_elasticnet)\n",
        "test_r2_elasticnet = r2_score(y_test, y_test_pred_elasticnet)\n",
        "\n",
        "# Output the results\n",
        "print(f\"Training MSE (ElasticNet): {train_mse_elasticnet}\")\n",
        "print(f\"Test MSE (ElasticNet): {test_mse_elasticnet}\")\n",
        "print(f\"Training R² (ElasticNet): {train_r2_elasticnet}\")\n",
        "print(f\"Test R² (ElasticNet): {test_r2_elasticnet}\")\n"
      ],
      "metadata": {
        "colab": {
          "base_uri": "https://localhost:8080/",
          "height": 0
        },
        "id": "wtlEblgeCSH8",
        "outputId": "a71c445a-1fe1-4297-9668-211edb44c31d"
      },
      "execution_count": 36,
      "outputs": [
        {
          "output_type": "stream",
          "name": "stdout",
          "text": [
            "Training MSE (ElasticNet): 0.014299945607200737\n",
            "Test MSE (ElasticNet): 0.014298415225414383\n",
            "Training R² (ElasticNet): 0.9870738350926167\n",
            "Test R² (ElasticNet): 0.9871066796379568\n"
          ]
        }
      ]
    },
    {
      "cell_type": "code",
      "source": [
        "from sklearn.model_selection import GridSearchCV\n",
        "\n",
        "# Define the model\n",
        "ridge = Ridge()\n",
        "\n",
        "# Define the hyperparameter grid\n",
        "param_grid = {'alpha': [0.1, 1, 10, 100, 1000]}\n",
        "\n",
        "# Set up the GridSearchCV\n",
        "grid_search_ridge = GridSearchCV(ridge, param_grid, cv=5, scoring='neg_mean_squared_error', n_jobs=-1)\n",
        "\n",
        "# Fit the grid search to the data\n",
        "grid_search_ridge.fit(X_train, y_train)\n",
        "\n",
        "# Best hyperparameters found by GridSearchCV\n",
        "best_params_ridge = grid_search_ridge.best_params_\n",
        "\n",
        "# Best model\n",
        "best_ridge_model = grid_search_ridge.best_estimator_\n",
        "\n",
        "# Best score (Mean Squared Error) achieved during the search\n",
        "best_score_ridge = grid_search_ridge.best_score_\n",
        "\n",
        "# Training the best model on the whole training set\n",
        "best_ridge_model.fit(X_train, y_train)\n",
        "\n",
        "# Test the model on the test set\n",
        "test_mse_ridge = mean_squared_error(y_test, best_ridge_model.predict(X_test))\n",
        "test_r2_ridge = r2_score(y_test, best_ridge_model.predict(X_test))\n",
        "\n",
        "print(\"Best Parameters for Ridge:\", best_params_ridge)\n",
        "print(\"Best Cross-Validation MSE for Ridge:\", best_score_ridge)\n",
        "print(\"Test Set MSE for Ridge:\", test_mse_ridge)\n",
        "print(\"Test Set R² for Ridge:\", test_r2_ridge)\n"
      ],
      "metadata": {
        "colab": {
          "base_uri": "https://localhost:8080/",
          "height": 0
        },
        "id": "EdwhmZuyCzu8",
        "outputId": "59c242a7-e23d-4da2-faab-e77062df0496"
      },
      "execution_count": 37,
      "outputs": [
        {
          "output_type": "stream",
          "name": "stdout",
          "text": [
            "Best Parameters for Ridge: {'alpha': 0.1}\n",
            "Best Cross-Validation MSE for Ridge: -8.540111016883927e-14\n",
            "Test Set MSE for Ridge: 5.467927845910507e-14\n",
            "Test Set R² for Ridge: 0.9999999999999507\n"
          ]
        }
      ]
    },
    {
      "cell_type": "code",
      "source": [
        "from sklearn.linear_model import Lasso\n",
        "\n",
        "# Define the model\n",
        "lasso = Lasso()\n",
        "\n",
        "# Define the hyperparameter grid\n",
        "param_grid_lasso = {'alpha': [0.1, 1, 10, 100, 1000]}\n",
        "\n",
        "# Set up the GridSearchCV\n",
        "grid_search_lasso = GridSearchCV(lasso, param_grid_lasso, cv=5, scoring='neg_mean_squared_error', n_jobs=-1)\n",
        "\n",
        "# Fit the grid search to the data\n",
        "grid_search_lasso.fit(X_train, y_train)\n",
        "\n",
        "# Best hyperparameters found by GridSearchCV\n",
        "best_params_lasso = grid_search_lasso.best_params_\n",
        "\n",
        "# Best model\n",
        "best_lasso_model = grid_search_lasso.best_estimator_\n",
        "\n",
        "# Best score (Mean Squared Error) achieved during the search\n",
        "best_score_lasso = grid_search_lasso.best_score_\n",
        "\n",
        "# Training the best model on the whole training set\n",
        "best_lasso_model.fit(X_train, y_train)\n",
        "\n",
        "# Test the model on the test set\n",
        "test_mse_lasso = mean_squared_error(y_test, best_lasso_model.predict(X_test))\n",
        "test_r2_lasso = r2_score(y_test, best_lasso_model.predict(X_test))\n",
        "\n",
        "print(\"Best Parameters for Lasso:\", best_params_lasso)\n",
        "print(\"Best Cross-Validation MSE for Lasso:\", best_score_lasso)\n",
        "print(\"Test Set MSE for Lasso:\", test_mse_lasso)\n",
        "print(\"Test Set R² for Lasso:\", test_r2_lasso)\n"
      ],
      "metadata": {
        "colab": {
          "base_uri": "https://localhost:8080/",
          "height": 0
        },
        "id": "a3-ccurLDewX",
        "outputId": "2bfd06f2-f59a-4d72-8d82-bc7b711ee082"
      },
      "execution_count": 38,
      "outputs": [
        {
          "output_type": "stream",
          "name": "stdout",
          "text": [
            "Best Parameters for Lasso: {'alpha': 0.1}\n",
            "Best Cross-Validation MSE for Lasso: -0.012897630844291385\n",
            "Test Set MSE for Lasso: 0.01290126507947049\n",
            "Test Set R² for Lasso: 0.9883665328553617\n"
          ]
        }
      ]
    },
    {
      "cell_type": "code",
      "source": [
        "from sklearn.linear_model import ElasticNet\n",
        "\n",
        "# Define the model\n",
        "elasticnet = ElasticNet()\n",
        "\n",
        "# Define the hyperparameter grid\n",
        "param_grid_en = {'alpha': [0.1, 1, 10, 100, 1000]}\n",
        "\n",
        "# Set up the GridSearchCV\n",
        "grid_search_en = GridSearchCV(elasticnet, param_grid_en, cv=5, scoring='neg_mean_squared_error', n_jobs=-1)\n",
        "\n",
        "# Fit the grid search to the data\n",
        "grid_search_en.fit(X_train, y_train)\n",
        "\n",
        "# Best hyperparameters found by GridSearchCV\n",
        "best_params_en = grid_search_en.best_params_\n",
        "\n",
        "# Best model\n",
        "best_en_model = grid_search_en.best_estimator_\n",
        "\n",
        "# Best score (Mean Squared Error) achieved during the search\n",
        "best_score_en = grid_search_en.best_score_\n",
        "\n",
        "# Training the best model on the whole training set\n",
        "best_en_model.fit(X_train, y_train)\n",
        "\n",
        "# Test the model on the test set\n",
        "test_mse_en = mean_squared_error(y_test, best_en_model.predict(X_test))\n",
        "test_r2_en = r2_score(y_test, best_en_model.predict(X_test))\n",
        "\n",
        "print(\"Best Parameters for ElasticNet:\", best_params_en)\n",
        "print(\"Best Cross-Validation MSE for ElasticNet:\", best_score_en)\n",
        "print(\"Test Set MSE for ElasticNet:\", test_mse_en)\n",
        "print(\"Test Set R² for ElasticNet:\", test_r2_en)\n"
      ],
      "metadata": {
        "colab": {
          "base_uri": "https://localhost:8080/",
          "height": 0
        },
        "id": "komOnKKSDqqs",
        "outputId": "cf7661fd-4b08-4f8e-8be3-6d3482768812"
      },
      "execution_count": 39,
      "outputs": [
        {
          "output_type": "stream",
          "name": "stdout",
          "text": [
            "Best Parameters for ElasticNet: {'alpha': 0.1}\n",
            "Best Cross-Validation MSE for ElasticNet: -0.014300531048647296\n",
            "Test Set MSE for ElasticNet: 0.014298415225414383\n",
            "Test Set R² for ElasticNet: 0.9871066796379568\n"
          ]
        }
      ]
    },
    {
      "cell_type": "code",
      "source": [
        "from sklearn.model_selection import GridSearchCV\n",
        "\n",
        "# Define the parameter grid for each model\n",
        "ridge_param_grid = {'alpha': [0.01, 0.1, 1, 10, 100]}\n",
        "lasso_param_grid = {'alpha': [0.01, 0.1, 1, 10, 100]}\n",
        "elasticnet_param_grid = {'alpha': [0.01, 0.1, 1, 10, 100]}\n",
        "\n",
        "# Define models\n",
        "ridge = Ridge()\n",
        "lasso = Lasso()\n",
        "elasticnet = ElasticNet()\n",
        "\n",
        "# Perform GridSearchCV for each model\n",
        "ridge_cv = GridSearchCV(ridge, ridge_param_grid, cv=5, scoring='neg_mean_squared_error')\n",
        "lasso_cv = GridSearchCV(lasso, lasso_param_grid, cv=5, scoring='neg_mean_squared_error')\n",
        "elasticnet_cv = GridSearchCV(elasticnet, elasticnet_param_grid, cv=5, scoring='neg_mean_squared_error')\n",
        "\n",
        "# Fit each model to the training data\n",
        "ridge_cv.fit(X_train, y_train)\n",
        "lasso_cv.fit(X_train, y_train)\n",
        "elasticnet_cv.fit(X_train, y_train)\n",
        "\n",
        "# Get the best model from each grid search\n",
        "ridge_best_model = ridge_cv.best_estimator_\n",
        "lasso_best_model = lasso_cv.best_estimator_\n",
        "elasticnet_best_model = elasticnet_cv.best_estimator_\n"
      ],
      "metadata": {
        "id": "WoDX7775EJoG"
      },
      "execution_count": 42,
      "outputs": []
    },
    {
      "cell_type": "code",
      "source": [
        "# Define the evaluation function if it's not already defined:\n",
        "def evaluate_model_metrics(model, X_test, y_test):\n",
        "    # Predict on the test set\n",
        "    y_pred = model.predict(X_test)\n",
        "\n",
        "    # Calculate performance metrics\n",
        "    mse = mean_squared_error(y_test, y_pred)\n",
        "    r2 = r2_score(y_test, y_pred)\n",
        "\n",
        "    # Print the metrics\n",
        "    print(f\"Mean Squared Error: {mse}\")\n",
        "    print(f\"R² Score: {r2}\")\n",
        "\n",
        "# Evaluate the best models\n",
        "print(\"Ridge Model Evaluation:\")\n",
        "evaluate_model_metrics(ridge_best_model, X_test, y_test)\n",
        "\n",
        "print(\"\\nLasso Model Evaluation:\")\n",
        "evaluate_model_metrics(lasso_best_model, X_test, y_test)\n",
        "\n",
        "print(\"\\nElasticNet Model Evaluation:\")\n",
        "evaluate_model_metrics(elasticnet_best_model, X_test, y_test)\n"
      ],
      "metadata": {
        "colab": {
          "base_uri": "https://localhost:8080/",
          "height": 0
        },
        "id": "xxLFWvp9Eow1",
        "outputId": "a0fc60ab-4d5f-4c91-e38c-0c841962196b"
      },
      "execution_count": 43,
      "outputs": [
        {
          "output_type": "stream",
          "name": "stdout",
          "text": [
            "Ridge Model Evaluation:\n",
            "Mean Squared Error: 5.467946879127662e-16\n",
            "R² Score: 0.9999999999999996\n",
            "\n",
            "Lasso Model Evaluation:\n",
            "Mean Squared Error: 0.0001283172276064061\n",
            "R² Score: 0.999884292413011\n",
            "\n",
            "ElasticNet Model Evaluation:\n",
            "Mean Squared Error: 0.00035233503680692237\n",
            "R² Score: 0.9996822886709675\n"
          ]
        }
      ]
    }
  ]
}